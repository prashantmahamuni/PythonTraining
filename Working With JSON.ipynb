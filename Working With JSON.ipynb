{
 "cells": [
  {
   "cell_type": "markdown",
   "id": "b0a90d42",
   "metadata": {},
   "source": [
    "# Working With JSON\n",
    "\n",
    "Trainer : prashant.mahamuni@gmail.com\n",
    "\n",
    "+ Python has native support to JSON\n",
    "+ just import module json\n",
    "+ Python objects can be serialized to json using dumps method\n",
    "+ Json can be deserialized to python object/s using loads method"
   ]
  },
  {
   "cell_type": "code",
   "execution_count": 1,
   "id": "9fcb90fb",
   "metadata": {},
   "outputs": [],
   "source": [
    "# Dumping to json file\n",
    "import json\n",
    "data = {\n",
    "  \"squadName\": \"Super hero squad\",\n",
    "  \"homeTown\": \"Metro City\",\n",
    "  \"formed\": 2016XYZ,\n",
    "  \"secretBase\": \"Super tower\",\n",
    "  \"active\": True,\n",
    "  \"members\": [\n",
    "    {\n",
    "      \"name\": \"Molecule Man\",\n",
    "      \"age\": 29,\n",
    "      \"secretIdentity\": \"Dan Jukes\",\n",
    "      \"powers\": [\"Radiation resistance\", \"Turning tiny\", \"Radiation blast\"]\n",
    "    },\n",
    "    {\n",
    "      \"name\": \"Madame Uppercut\",\n",
    "      \"age\": 39,\n",
    "      \"secretIdentity\": \"Jane Wilson\",\n",
    "      \"powers\": [\n",
    "        \"Million tonne punch\",\n",
    "        \"Damage resistance\",\n",
    "        \"Superhuman reflexes\"\n",
    "      ]\n",
    "    },\n",
    "    {\n",
    "      \"name\": \"Eternal Flame\",\n",
    "      \"age\": 1000000,\n",
    "      \"secretIdentity\": \"Unknown\",\n",
    "      \"powers\": [\n",
    "        \"Immortality\",\n",
    "        \"Heat Immunity\",\n",
    "        \"Inferno\",\n",
    "        \"Teleportation\",\n",
    "        \"Interdimensional travel\"\n",
    "      ]\n",
    "    }\n",
    "  ]\n",
    "}\n",
    "\n",
    "with open(\"./output/data_file.json\", \"w\") as write_file:\n",
    "    json.dump(data, write_file)"
   ]
  },
  {
   "cell_type": "code",
   "execution_count": 2,
   "id": "d0b9f94b",
   "metadata": {},
   "outputs": [
    {
     "name": "stdout",
     "output_type": "stream",
     "text": [
      "<class 'dict'>\n"
     ]
    },
    {
     "data": {
      "text/plain": [
       "{'squadName': 'Super hero squad',\n",
       " 'homeTown': 'Metro City',\n",
       " 'formed': 2016,\n",
       " 'secretBase': 'Super tower',\n",
       " 'active': True,\n",
       " 'members': [{'name': 'Molecule Man',\n",
       "   'age': 29,\n",
       "   'secretIdentity': 'Dan Jukes',\n",
       "   'powers': ['Radiation resistance', 'Turning tiny', 'Radiation blast']},\n",
       "  {'name': 'Madame Uppercut',\n",
       "   'age': 39,\n",
       "   'secretIdentity': 'Jane Wilson',\n",
       "   'powers': ['Million tonne punch',\n",
       "    'Damage resistance',\n",
       "    'Superhuman reflexes']},\n",
       "  {'name': 'Eternal Flame',\n",
       "   'age': 1000000,\n",
       "   'secretIdentity': 'Unknown',\n",
       "   'powers': ['Immortality',\n",
       "    'Heat Immunity',\n",
       "    'Inferno',\n",
       "    'Teleportation',\n",
       "    'Interdimensional travel']}]}"
      ]
     },
     "execution_count": 2,
     "metadata": {},
     "output_type": "execute_result"
    }
   ],
   "source": [
    "# reading from json file\n",
    "with open(\"./output/data_file.json\", \"r\") as read_file:\n",
    "    data = json.load(read_file)\n",
    "    \n",
    "print( type(data))\n",
    "data"
   ]
  },
  {
   "cell_type": "code",
   "execution_count": 3,
   "id": "73ef39f9",
   "metadata": {},
   "outputs": [
    {
     "data": {
      "text/plain": [
       "'Dan Jukes'"
      ]
     },
     "execution_count": 3,
     "metadata": {},
     "output_type": "execute_result"
    }
   ],
   "source": [
    "# Get secretIdentity of first member\n",
    "data.get('members')[0].get('secretIdentity')"
   ]
  },
  {
   "attachments": {
    "image-2.png": {
     "image/png": "[encoded data removed]"
    }
   },
   "cell_type": "markdown",
   "id": "a15674f1",
   "metadata": {},
   "source": [
    "**Json to Python conversion table for reference**\n",
    "\n",
    "![image-2.png](attachment:image-2.png)\n"
   ]
  },
  {
   "cell_type": "code",
   "execution_count": 4,
   "id": "6dd6f544",
   "metadata": {},
   "outputs": [
    {
     "name": "stdout",
     "output_type": "stream",
     "text": [
      "{\"name\": \"John\", \"age\": 30}\n",
      "[\"apple\", \"bananas\"]\n",
      "[\"apple\", \"bananas\"]\n",
      "\"hello\"\n",
      "42\n",
      "31.76\n",
      "true\n",
      "false\n",
      "null\n"
     ]
    }
   ],
   "source": [
    "print(json.dumps({\"name\": \"John\", \"age\": 30}))\n",
    "print(json.dumps([\"apple\", \"bananas\"]))\n",
    "print(json.dumps((\"apple\", \"bananas\")))\n",
    "print(json.dumps(\"hello\"))\n",
    "print(json.dumps(42))\n",
    "print(json.dumps(31.76))\n",
    "print(json.dumps(True))\n",
    "print(json.dumps(False))\n",
    "print(json.dumps(None))"
   ]
  }
 ],
 "metadata": {
  "kernelspec": {
   "display_name": "Python 3 (ipykernel)",
   "language": "python",
   "name": "python3"
  },
  "language_info": {
   "codemirror_mode": {
    "name": "ipython",
    "version": 3
   },
   "file_extension": ".py",
   "mimetype": "text/x-python",
   "name": "python",
   "nbconvert_exporter": "python",
   "pygments_lexer": "ipython3",
   "version": "3.9.13"
  }
 },
 "nbformat": 4,
 "nbformat_minor": 5
}
