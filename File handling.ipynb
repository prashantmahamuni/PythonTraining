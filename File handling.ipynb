{
 "cells": [
  {
   "cell_type": "markdown",
   "id": "9b39cf70",
   "metadata": {},
   "source": [
    "# Python Basics -  File Handling\n",
    "\n",
    "Trainer : prashant.mahamuni@cognizant.com\n",
    "\n",
    "\n",
    "**Closing and Opening Files**\n",
    "\n",
    "+ Python, along with associated packages, supports a number of formats for file reading and writing. \n",
    "+ The file types supported are txt, csv, xls, xlsx, doc, docx, dat, output, sql (and some specialized formats such as R, .dta, sas7bdat)\n",
    "+ Here, we will cover some of the options and will look at the rest in session on pandas.\n",
    "+ In order to open a file, use open() method specifying file name and mode of opening (read, write, append, etc)\n",
    "+ Open returns a file handle \n",
    "+ handle = open(filename, mode)\n",
    "+ Once work is done, it is always better to close the file otherwise other programs might not be able to access the file.\n",
    "+ File closing is done using close() method\n"
   ]
  },
  {
   "cell_type": "code",
   "execution_count": 2,
   "id": "9255ae3f",
   "metadata": {
    "scrolled": true
   },
   "outputs": [
    {
     "name": "stdout",
     "output_type": "stream",
     "text": [
      "Username,Identifier,First name,Last name\n",
      "booker12,9012,Rachel,Booker\n",
      "grey07,2070,Laura,Grey\n",
      "johnson81,4081,Craig,Johnson\n",
      "jenkins46,9346,Mary,Jenkins\n",
      "smith79,5079,Jamie,Smith\n"
     ]
    }
   ],
   "source": [
    "# Open() - Built in function that opens a file and returns file object\n",
    "\n",
    "f = open('./input/username.csv')\n",
    "content = f.read()\n",
    "print(content)\n",
    "f.close()"
   ]
  },
  {
   "cell_type": "code",
   "execution_count": 3,
   "id": "9f961c96",
   "metadata": {},
   "outputs": [
    {
     "name": "stdout",
     "output_type": "stream",
     "text": [
      "Use\n"
     ]
    }
   ],
   "source": [
    "# Open() - Built in function that opens a file and returns fie object\n",
    "\n",
    "f = open('./input/username.csv')\n",
    "content = f.read(3)\n",
    "print(content)\n",
    "f.close()"
   ]
  },
  {
   "cell_type": "code",
   "execution_count": 4,
   "id": "54994908",
   "metadata": {
    "scrolled": true
   },
   "outputs": [
    {
     "name": "stdout",
     "output_type": "stream",
     "text": [
      "Change offset to : 10\n",
      "Current offset is : 10 \n",
      "\n",
      "dentifier,First name,Last name\n",
      "booker12,9012,Rachel,Booker\n",
      "grey07,2070,Laura,Grey\n",
      "johnson81,4081,Craig,Johnson\n",
      "jenkins46,9346,Mary,Jenkins\n",
      "smith79,5079,Jamie,Smith\n",
      "\n",
      "New offset is : 173\n"
     ]
    }
   ],
   "source": [
    "# seek() - Change the current position to offset\n",
    "# tell() - determine the current offset position in file\n",
    "\n",
    "f = open('./input/username.csv')\n",
    "print('Change offset to :',f.seek(10))\n",
    "print('Current offset is :',f.tell(),'\\n')\n",
    "content = f.read()\n",
    "print(content)\n",
    "print('\\nNew offset is :',f.tell())\n",
    "f.close()"
   ]
  },
  {
   "cell_type": "markdown",
   "id": "65f7e89a",
   "metadata": {},
   "source": [
    "###  Automatically closing file"
   ]
  },
  {
   "cell_type": "code",
   "execution_count": 46,
   "id": "27fa41fd",
   "metadata": {},
   "outputs": [
    {
     "name": "stdout",
     "output_type": "stream",
     "text": [
      "Username,Identifier,First name,Last name\n",
      "booker12,9012,Rachel,Booker\n",
      "grey07,2070,Laura,Grey\n",
      "johnson81,4081,Craig,Johnson\n",
      "jenkins46,9346,Mary,Jenkins\n",
      "smith79,5079,Jamie,Smith\n"
     ]
    }
   ],
   "source": [
    "# Use with block to close the file automatically\n",
    "# End of the with block makes sure that file has closed\n",
    "\n",
    "with open('./input/username.csv') as file1:\n",
    "    print(file1.read())"
   ]
  },
  {
   "cell_type": "code",
   "execution_count": 5,
   "id": "dd783472",
   "metadata": {},
   "outputs": [
    {
     "name": "stdout",
     "output_type": "stream",
     "text": [
      "\n",
      "booker12,9012,Rachel,Booker\n",
      "grey07,2070,Laura,Grey\n",
      "johnson81,4081,Craig,Johnson\n",
      "jenkins46,9346,Mary,Jenkins\n",
      "smith79,5079,Jamie,Smith\n",
      "Has file closed within with block ? False\n",
      "Has file closed outside with block ? True\n"
     ]
    }
   ],
   "source": [
    "# All other functions on file will work as is in with block\n",
    "\n",
    "with open('./input/username.csv') as file1:\n",
    "    file1.seek(40)\n",
    "    print(file1.read())\n",
    "    print(\"Has file closed within with block ? {}\".format(file1.closed))\n",
    "\n",
    "print(\"Has file closed outside with block ? {}\".format(file1.closed))"
   ]
  },
  {
   "cell_type": "markdown",
   "id": "3672d4bc",
   "metadata": {},
   "source": [
    "### Handling very large files\n",
    "\n",
    "+ It's not a good practice to read large files in single object at a time\n",
    "+ Insted read a file line by line and utilize benefits of streaming"
   ]
  },
  {
   "cell_type": "code",
   "execution_count": 10,
   "id": "b99165a8",
   "metadata": {
    "scrolled": true
   },
   "outputs": [
    {
     "name": "stdout",
     "output_type": "stream",
     "text": [
      "Username,Identifier,First name,Last name\n",
      "booker12,9012,Rachel,Booker\n",
      "grey07,2070,Laura,Grey\n",
      "johnson81,4081,Craig,Johnson\n",
      "jenkins46,9346,Mary,Jenkins\n",
      "smith79,5079,Jamie,Smith"
     ]
    }
   ],
   "source": [
    "# Streaming in file using for loop\n",
    "import time\n",
    "\n",
    "with open('./input/username.csv') as file1:\n",
    "    for line in file1:\n",
    "        print(line, end=\"\")\n",
    "        #time.sleep(5)"
   ]
  },
  {
   "cell_type": "code",
   "execution_count": 12,
   "id": "25bae516",
   "metadata": {},
   "outputs": [],
   "source": [
    "# Create a File\n",
    "# open('file_Path', 'access_mode')\n",
    "\n",
    "f = open('./input/new-test-file.csv', 'w')\n",
    "\n",
    "f.close()"
   ]
  },
  {
   "attachments": {
    "image.png": {
     "image/png": "[encoded data removed]"
    }
   },
   "cell_type": "markdown",
   "id": "c46366fc",
   "metadata": {},
   "source": [
    "![image.png](attachment:image.png)"
   ]
  },
  {
   "cell_type": "code",
   "execution_count": 13,
   "id": "126559ef",
   "metadata": {},
   "outputs": [],
   "source": [
    "# Write a file\n",
    "\n",
    "with open('./input/file_write_1.csv', 'w') as file1:\n",
    "    file1.write(\"Writing 1st line to file.\\n\")\n",
    "    file1.write(\"Here is some more text.\\n\")\n",
    "    file1.write(\"This marks end of the file.\\n\")"
   ]
  }
 ],
 "metadata": {
  "kernelspec": {
   "display_name": "Python 3 (ipykernel)",
   "language": "python",
   "name": "python3"
  },
  "language_info": {
   "codemirror_mode": {
    "name": "ipython",
    "version": 3
   },
   "file_extension": ".py",
   "mimetype": "text/x-python",
   "name": "python",
   "nbconvert_exporter": "python",
   "pygments_lexer": "ipython3",
   "version": "3.9.13"
  }
 },
 "nbformat": 4,
 "nbformat_minor": 5
}
