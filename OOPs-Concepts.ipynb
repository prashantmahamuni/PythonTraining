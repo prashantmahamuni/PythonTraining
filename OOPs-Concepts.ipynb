{
 "cells": [
  {
   "cell_type": "markdown",
   "id": "9b39cf70",
   "metadata": {},
   "source": [
    "# Python Basics -  OOPS Concepts\n",
    "\n",
    "Trainer : prashant.mahamuni@cognizant.com\n",
    "\n"
   ]
  },
  {
   "cell_type": "markdown",
   "id": "24302935",
   "metadata": {},
   "source": [
    "+ Class\n",
    "+ Object\n",
    "+ Inheritance\n",
    "+ Encapsulation\n",
    "+ Polymorphism\n",
    "+ Abstraction"
   ]
  },
  {
   "attachments": {
    "Oops.png": {
     "image/png": "[encoded data removed]"
    }
   },
   "cell_type": "markdown",
   "id": "19d44f25",
   "metadata": {},
   "source": [
    "![Oops.png](attachment:Oops.png)"
   ]
  },
  {
   "cell_type": "markdown",
   "id": "6028f7bd",
   "metadata": {},
   "source": [
    "## Classes & Objects\n",
    "\n",
    "**Class**\n",
    "\n",
    "+ Class is a blueprint of object\n",
    "+ It defines guideline and common proerties of Object\n",
    "+ Syntax to define class is <font color='red'><b>class class_name</b></font>\n",
    "\n",
    "**Object**\n",
    "\n",
    "+ An Instance of a class is called as an object\n",
    "+ Syntax to define object is <font color='red'><b>object_name = class_name()</b></font>\n"
   ]
  },
  {
   "cell_type": "code",
   "execution_count": 17,
   "id": "5dbb218a",
   "metadata": {},
   "outputs": [
    {
     "name": "stdout",
     "output_type": "stream",
     "text": [
      "i5 16Gb 1TB\n",
      "i5 16Gb 1TB\n"
     ]
    }
   ],
   "source": [
    "# Class and Object\n",
    "# If we define config method without argument it will give an error as 1st argument of object/instance method must be object itself.\n",
    "# The self parameter is a reference to the current instance of the class(Object)\n",
    "# self is used to access variables that belongs to the class.\n",
    "# It does not have to be named self , you can call it whatever you like, but it has to be the first parameter\n",
    "\n",
    "class computer:\n",
    "        \n",
    "    def config(self):\n",
    "        print(\"i5\", '16Gb', \"1TB\")\n",
    "        \n",
    "\n",
    "comp1 = computer()\n",
    "\n",
    "comp1.config() # computer.config(comp1)\n",
    "\n",
    "\n",
    "comp2 = computer()\n",
    "\n",
    "comp2.config()\n"
   ]
  },
  {
   "cell_type": "markdown",
   "id": "03d89848",
   "metadata": {},
   "source": [
    "**Instance Variable**\n",
    "\n",
    "+ Instance variables are owned by instances/object of the class. \n",
    "+ For each object or instance of a class, the instance variables are different. \n",
    "+ Instance variables are defined within methods"
   ]
  },
  {
   "cell_type": "code",
   "execution_count": 8,
   "id": "5de319b4",
   "metadata": {},
   "outputs": [
    {
     "name": "stdout",
     "output_type": "stream",
     "text": [
      "i7 128Gb 2TB\n",
      "i5 16Gb 1TB\n",
      "comp1.memory 128Gb\n",
      "comp1.processor_name i7\n",
      "comp2.memory 16Gb\n",
      "comp2.processor_name i5\n"
     ]
    }
   ],
   "source": [
    "# Class and Object with instance variables\n",
    "\n",
    "class computer:\n",
    "    \n",
    "    def config(self, processor, memory, data):\n",
    "        #print(\"i5\", '16Gb', \"1TB\")\n",
    "        self.processor_name = processor\n",
    "        self.memory = memory\n",
    "        self.data = data\n",
    "        \n",
    "        print(self.processor_name, self.memory, self.data)\n",
    "        \n",
    "\n",
    "comp1 = computer()\n",
    "comp2 = computer()\n",
    "\n",
    "\n",
    "comp1.config('i7', '128Gb', '2TB') #computer.config(comp1)\n",
    "comp2.config('i5', '16Gb', '1TB')\n",
    "\n",
    "print(\"comp1.memory\",comp1.memory)\n",
    "print(\"comp1.processor_name\",comp1.processor_name)\n",
    "\n",
    "print(\"comp2.memory\",comp2.memory)\n",
    "print(\"comp2.processor_name\",comp2.processor_name)\n",
    "\n",
    "\n",
    "\n"
   ]
  },
  {
   "cell_type": "markdown",
   "id": "a36633eb",
   "metadata": {},
   "source": [
    "**init method**\n",
    "\n",
    "+ It's like a constructor in other languages\n",
    "+ Used to initialize(assign values) to the data members of the class when an object of the class is created"
   ]
  },
  {
   "cell_type": "code",
   "execution_count": 9,
   "id": "581c78c5",
   "metadata": {},
   "outputs": [
    {
     "name": "stdout",
     "output_type": "stream",
     "text": [
      "i7 128Gb 2TB\n",
      "i5 16Gb 1TB\n",
      "comp1.memory 128Gb\n",
      "comp1.processor_name i7\n",
      "comp1.os Windows\n",
      "comp1.brand Dell\n",
      "comp2.memory 16Gb\n",
      "comp2.processor_name i5\n",
      "comp2.os Linux\n",
      "comp2.brand Dell\n"
     ]
    }
   ],
   "source": [
    "# Class and Object with instance variables and __init()__\n",
    "\n",
    "class computer:\n",
    "    \n",
    "    def __init__(self, os):\n",
    "        self.os = os\n",
    "        self.brand = 'Dell'\n",
    "    \n",
    "    def config(self, processor, memory, data):\n",
    "        #print(\"i5\", '16Gb', \"1TB\")\n",
    "        self.processor_name = processor\n",
    "        self.memory = memory\n",
    "        self.data = data\n",
    "        \n",
    "        print(self.processor_name, self.memory, self.data)\n",
    "        \n",
    "\n",
    "comp1 = computer(\"Windows\")\n",
    "comp2 = computer(\"Linux\")\n",
    "\n",
    "\n",
    "comp1.config('i7', '128Gb', '2TB') #computer.config(comp1)\n",
    "comp2.config('i5', '16Gb', '1TB')\n",
    "\n",
    "print(\"comp1.memory\",comp1.memory)\n",
    "print(\"comp1.processor_name\",comp1.processor_name)\n",
    "print(\"comp1.os\",comp1.os)\n",
    "print(\"comp1.brand\",comp1.brand)\n",
    "\n",
    "print(\"comp2.memory\",comp2.memory)\n",
    "print(\"comp2.processor_name\",comp2.processor_name)\n",
    "print(\"comp2.os\",comp2.os)\n",
    "print(\"comp2.brand\",comp2.brand)\n"
   ]
  },
  {
   "cell_type": "code",
   "execution_count": 4,
   "id": "e7bd6c1e",
   "metadata": {},
   "outputs": [
    {
     "name": "stdout",
     "output_type": "stream",
     "text": [
      "i7 128Gb 2TB\n"
     ]
    }
   ],
   "source": [
    "# Example code for parsing variable length argument\n",
    "\n",
    "class computer:\n",
    "    \n",
    "    def config(self, *processor):\n",
    "        #print(\"i5\", '16Gb', \"1TB\")\n",
    "        self.processor_name = processor[0]\n",
    "        self.memory = processor[1]\n",
    "        self.data = processor[2]\n",
    "        \n",
    "        print(self.processor_name, self.memory, self.data)\n",
    "        \n",
    "\n",
    "comp1 = computer()\n",
    "\n",
    "comp1.config('i7', '128Gb', '2TB') #computer.config(comp1)\n"
   ]
  },
  {
   "cell_type": "code",
   "execution_count": 5,
   "id": "bfa53388",
   "metadata": {},
   "outputs": [
    {
     "name": "stdout",
     "output_type": "stream",
     "text": [
      "i7 128Gb 2TB\n"
     ]
    }
   ],
   "source": [
    "# Example code for parsing keyworded arguments\n",
    "\n",
    "class computer:\n",
    "    \n",
    "    def config(self, **processor):\n",
    "        #print(\"i5\", '16Gb', \"1TB\")\n",
    "        self.processor_name = processor['processor_name'] # processor.get('processor_name')\n",
    "        self.memory = processor['memory']\n",
    "        self.data = processor['data']\n",
    "        \n",
    "        print(self.processor_name, self.memory, self.data)\n",
    "        \n",
    "\n",
    "comp1 = computer()\n",
    "\n",
    "comp1.config(processor_name = 'i7', memory = '128Gb', data = '2TB') #computer.config(comp1)\n"
   ]
  },
  {
   "cell_type": "markdown",
   "id": "0e73a470",
   "metadata": {},
   "source": [
    "**Type of variables in class**\n",
    "\n",
    "+ Instance variables are owned by instances/object of the class. \n",
    "+ class variables are owned by class and not tied to objects. Can be accessed using class or object."
   ]
  },
  {
   "cell_type": "code",
   "execution_count": 1,
   "id": "b1e0c719",
   "metadata": {},
   "outputs": [
    {
     "name": "stdout",
     "output_type": "stream",
     "text": [
      "10\n",
      "BMW\n",
      "4\n",
      "4\n",
      "5\n",
      "4\n"
     ]
    }
   ],
   "source": [
    "# Type of variables in class\n",
    "\n",
    "class car:\n",
    "    wheels = 4 # Class variable\n",
    "    \n",
    "    def __init__(self):\n",
    "        self.mil = 10      # instance variables\n",
    "        self.make = 'BMW'  # instance variables\n",
    "        \n",
    "bmw_car = car()\n",
    "\n",
    "print(bmw_car.mil)\n",
    "print(bmw_car.make)\n",
    "\n",
    "print(bmw_car.wheels)\n",
    "print(car.wheels)\n",
    "\n",
    "bmw_car.wheels = 5\n",
    "print(bmw_car.wheels)\n",
    "print(car.wheels)"
   ]
  },
  {
   "cell_type": "code",
   "execution_count": 3,
   "id": "7f80aec0",
   "metadata": {},
   "outputs": [
    {
     "data": {
      "text/plain": [
       "4"
      ]
     },
     "execution_count": 3,
     "metadata": {},
     "output_type": "execute_result"
    }
   ],
   "source": [
    "car.wheels"
   ]
  },
  {
   "cell_type": "markdown",
   "id": "3459b17a",
   "metadata": {},
   "source": [
    "**Type of methods**\n",
    "\n",
    "+ instance methods are owned by instance/object of the class.\n",
    "+ instance methods can be called or accessed by object only\n",
    "+ Class methods are owned by class. \n",
    "+ Use @classmethod decorator for classmethod definition.\n",
    "+ Class methods can be called by both class and object.\n",
    "+ A static method does not receive an implicit first argument like self/cls. \n",
    "+ A static method is also a method that is bound to the class and not the object of the class. \n",
    "+ This method can’t access or modify the class state. \n",
    "+ Use @staticmethod decorator for static method definition."
   ]
  },
  {
   "cell_type": "code",
   "execution_count": 5,
   "id": "c81fb821",
   "metadata": {},
   "outputs": [
    {
     "name": "stdout",
     "output_type": "stream",
     "text": [
      "Average 55.0\n",
      "DAV\n",
      "DAV\n",
      "This is student Class. It has a method to calculate average\n",
      "This is student Class. It has a method to calculate average\n"
     ]
    }
   ],
   "source": [
    "# Type of methods\n",
    "# Instance methods\n",
    "# Class Method\n",
    "# Static Method\n",
    "\n",
    "class Student:\n",
    "    \n",
    "    SchoolName = 'DAV' # Class variable\n",
    "    \n",
    "    def __init__(self, m1, m2, m3):\n",
    "        self.m1 = m1\n",
    "        self.m2 = m2\n",
    "        self.m3 = m3\n",
    "        \n",
    "    def getAvg(self):  # Instance Method\n",
    "        \n",
    "        avg = ( (self.m1 + self.m2 + self.m3) / 3 )\n",
    "        print('Average',avg)\n",
    "        \n",
    "    @classmethod\n",
    "    def getSchoolName(cls):\n",
    "        print(cls.SchoolName)\n",
    "        \n",
    "    @staticmethod\n",
    "    def getInfo():\n",
    "        SchoolName = 'ABC'\n",
    "        print(\"This is student Class. It has a method to calculate average\")\n",
    "\n",
    "s1 = Student(50, 55, 60)\n",
    "s1.getAvg()\n",
    "\n",
    "Student.getSchoolName()\n",
    "s1.getSchoolName()\n",
    "\n",
    "s1.getInfo()\n",
    "Student.getInfo()\n",
    "         \n",
    "            "
   ]
  },
  {
   "cell_type": "code",
   "execution_count": 6,
   "id": "c356a670",
   "metadata": {},
   "outputs": [
    {
     "data": {
      "text/plain": [
       "'DAV'"
      ]
     },
     "execution_count": 6,
     "metadata": {},
     "output_type": "execute_result"
    }
   ],
   "source": [
    "Student.SchoolName"
   ]
  },
  {
   "cell_type": "code",
   "execution_count": 8,
   "id": "0faa80da",
   "metadata": {},
   "outputs": [
    {
     "name": "stdout",
     "output_type": "stream",
     "text": [
      "DAV\n"
     ]
    }
   ],
   "source": [
    "Student.getSchoolName()"
   ]
  },
  {
   "cell_type": "markdown",
   "id": "b8b8fac0",
   "metadata": {},
   "source": [
    "**Inner Class**\n",
    "\n",
    "+ A class defined in another class is known as an inner class or nested class. \n",
    "+ A root class can have one or more inner classes \n",
    "+ Generally inner classes are avoided.\n"
   ]
  },
  {
   "cell_type": "code",
   "execution_count": 9,
   "id": "41c87961",
   "metadata": {},
   "outputs": [
    {
     "name": "stdout",
     "output_type": "stream",
     "text": [
      "acer\n",
      "hp\n",
      "hp\n"
     ]
    }
   ],
   "source": [
    "# Inner Class\n",
    "\n",
    "class Student:\n",
    "    \n",
    "    def __init__(self, name, rollno, brand):\n",
    "        self.name = name\n",
    "        self.rollno = rollno\n",
    "        self.lap = self.laptop(brand)\n",
    "        \n",
    "    def view(self):\n",
    "        print (self.name)\n",
    "        print (self.rollno)\n",
    "        print (self.lap.brand)\n",
    "        \n",
    "    class laptop:\n",
    "        \n",
    "        def __init__(self, brand):\n",
    "            self.brand = brand\n",
    "            self.cpu = 'i5'\n",
    "            \n",
    "ajay = Student(\"ajay\", 101, 'acer')\n",
    "vijay = Student(\"vijay\", 102, 'hp')\n",
    "x = Student.laptop('hp')\n",
    "\n",
    "print(ajay.lap.brand)\n",
    "print(vijay.lap.brand)\n",
    "print(x.brand)\n",
    "#print(x.name)\n",
    "\n",
    "            \n"
   ]
  },
  {
   "cell_type": "code",
   "execution_count": 10,
   "id": "f6a35428",
   "metadata": {},
   "outputs": [
    {
     "ename": "AttributeError",
     "evalue": "'laptop' object has no attribute 'name'",
     "output_type": "error",
     "traceback": [
      "\u001b[1;31m---------------------------------------------------------------------------\u001b[0m",
      "\u001b[1;31mAttributeError\u001b[0m                            Traceback (most recent call last)",
      "\u001b[1;32m~\\AppData\\Local\\Temp\\2\\ipykernel_2456\\2972448714.py\u001b[0m in \u001b[0;36m<module>\u001b[1;34m\u001b[0m\n\u001b[1;32m----> 1\u001b[1;33m \u001b[0mx\u001b[0m\u001b[1;33m.\u001b[0m\u001b[0mname\u001b[0m\u001b[1;33m\u001b[0m\u001b[1;33m\u001b[0m\u001b[0m\n\u001b[0m",
      "\u001b[1;31mAttributeError\u001b[0m: 'laptop' object has no attribute 'name'"
     ]
    }
   ],
   "source": [
    "x.name"
   ]
  },
  {
   "cell_type": "code",
   "execution_count": 11,
   "id": "fc6c624d",
   "metadata": {},
   "outputs": [
    {
     "data": {
      "text/plain": [
       "'i5'"
      ]
     },
     "execution_count": 11,
     "metadata": {},
     "output_type": "execute_result"
    }
   ],
   "source": [
    "x.cpu"
   ]
  },
  {
   "cell_type": "markdown",
   "id": "920e6678",
   "metadata": {},
   "source": [
    "## Inheritance"
   ]
  },
  {
   "cell_type": "markdown",
   "id": "f5f7b1b4",
   "metadata": {},
   "source": [
    "**Inheritance**\n",
    "+ One class to derive or inherit the properties from another class. \n",
    "+ The class that derives properties is called the derived class or child class\n",
    "+ The class from which the properties are being derived is called the base class or parent class or Superclass. \n",
    "\n",
    "<b>Benefits of inheritance are:</b>\n",
    "\n",
    "+ It provides the reusability of a code. \n",
    "+ We don’t have to write the same code again and again. \n",
    "+ Also, it allows us to add more features to a class without modifying it.\n",
    "+ It is transitive in nature, which means that if class B inherits from another class A, then all the subclasses of B would automatically inherit from class A.\n",
    "\n",
    "<b>Types of Inheritance</b>\n",
    "\n",
    "+ Single Inheritance:\n",
    "Single-level inheritance enables a derived class to inherit characteristics from a single-parent class.\n",
    "\n",
    "+ Multilevel Inheritance:\n",
    "Multi-level inheritance enables a derived class to inherit properties from an immediate parent class which in turn inherits properties from his parent class.\n",
    "\n",
    "+ Multiple Inheritance:\n",
    "Multiple level inheritance enables one derived class to inherit properties from more than one base class."
   ]
  },
  {
   "attachments": {
    "TKWW-Staging%20-%20Page%202.png": {
     "image/png": "[encoded data removed]"
    }
   },
   "cell_type": "markdown",
   "id": "32aa9ecd",
   "metadata": {},
   "source": [
    "![TKWW-Staging%20-%20Page%202.png](attachment:TKWW-Staging%20-%20Page%202.png)"
   ]
  },
  {
   "cell_type": "code",
   "execution_count": 13,
   "id": "2ed41385",
   "metadata": {},
   "outputs": [
    {
     "name": "stdout",
     "output_type": "stream",
     "text": [
      "B's init\n",
      "A's init\n",
      "A's Method\n"
     ]
    }
   ],
   "source": [
    "# Single level\n",
    "class A:\n",
    "    def __init__(self):\n",
    "        print(\"A's init\")\n",
    "        \n",
    "    def method_of_A(self):\n",
    "        print(\"A's Method\")\n",
    "\n",
    "class B(A):\n",
    "    def __init__(self):\n",
    "        print(\"B's init\")\n",
    "        super().__init__()\n",
    "        \n",
    "obj_b = B()\n",
    "obj_b.method_of_A()"
   ]
  },
  {
   "cell_type": "code",
   "execution_count": 14,
   "id": "d8e41a86",
   "metadata": {},
   "outputs": [
    {
     "name": "stdout",
     "output_type": "stream",
     "text": [
      "C's init\n",
      "B's init\n",
      "A's init\n"
     ]
    }
   ],
   "source": [
    "# Multilevel\n",
    "class A:\n",
    "    def __init__(self):\n",
    "        print(\"A's init\")\n",
    "        \n",
    "class B(A):\n",
    "    def __init__(self):\n",
    "        print(\"B's init\")\n",
    "        super().__init__()\n",
    "        \n",
    "class C(B):\n",
    "    def __init__(self):\n",
    "        print(\"C's init\")\n",
    "        super().__init__()\n",
    "        \n",
    "obj_c= C()"
   ]
  },
  {
   "cell_type": "code",
   "execution_count": 21,
   "id": "92944d90",
   "metadata": {},
   "outputs": [
    {
     "name": "stdout",
     "output_type": "stream",
     "text": [
      "C's init\n",
      "A's init\n",
      "B's init\n",
      "B's Method\n"
     ]
    }
   ],
   "source": [
    "#Multiple\n",
    "class A:\n",
    "    def __init__(self):\n",
    "        print(\"A's init\")\n",
    "        \n",
    "class B:\n",
    "    def __init__(self):\n",
    "        print(\"B's init\")\n",
    "        \n",
    "    def method_of_B(self):\n",
    "        print(\"B's Method\")\n",
    "        \n",
    "class C(A, B):\n",
    "    def __init__(self):\n",
    "        print(\"C's init\")\n",
    "        super().__init__()\n",
    "        obj_b = B()\n",
    "        obj_b.method_of_B()\n",
    "\n",
    "# MRO(Method Resolution Order) - Left to Right (L ---> R) \n",
    "# How to call B's init now?\n",
    "\n",
    "obj_c = C()"
   ]
  },
  {
   "cell_type": "code",
   "execution_count": 19,
   "id": "c0b07548",
   "metadata": {},
   "outputs": [
    {
     "name": "stdout",
     "output_type": "stream",
     "text": [
      "B's Method\n"
     ]
    }
   ],
   "source": [
    "obj_c.method_of_B()"
   ]
  },
  {
   "cell_type": "markdown",
   "id": "84e1668f",
   "metadata": {},
   "source": [
    "## Polymorphism**\n",
    "\n",
    "Polymorphism simply means having many forms."
   ]
  },
  {
   "cell_type": "markdown",
   "id": "88a465e0",
   "metadata": {},
   "source": [
    "**Duck Typing**\n",
    "\n",
    "+ Determining if object can be used for particular purpose\n",
    "+ Python is dynamically typed language hence purpose of object is important than type of object\n",
    "+ e.g. If it looks like a duck and quacks like a duck, it’s a duck”"
   ]
  },
  {
   "cell_type": "code",
   "execution_count": 8,
   "id": "8f5c1e2b",
   "metadata": {},
   "outputs": [
    {
     "name": "stdout",
     "output_type": "stream",
     "text": [
      "Duck flying\n",
      "Sparrow flying\n"
     ]
    },
    {
     "ename": "AttributeError",
     "evalue": "'Whale' object has no attribute 'fly'",
     "output_type": "error",
     "traceback": [
      "\u001b[1;31m---------------------------------------------------------------------------\u001b[0m",
      "\u001b[1;31mAttributeError\u001b[0m                            Traceback (most recent call last)",
      "\u001b[1;32m<ipython-input-8-6622e2c207d0>\u001b[0m in \u001b[0;36m<module>\u001b[1;34m\u001b[0m\n\u001b[0;32m     15\u001b[0m \u001b[1;33m\u001b[0m\u001b[0m\n\u001b[0;32m     16\u001b[0m \u001b[1;32mfor\u001b[0m \u001b[0manimal\u001b[0m \u001b[1;32min\u001b[0m \u001b[0mDuck\u001b[0m\u001b[1;33m(\u001b[0m\u001b[1;33m)\u001b[0m\u001b[1;33m,\u001b[0m \u001b[0mSparrow\u001b[0m\u001b[1;33m(\u001b[0m\u001b[1;33m)\u001b[0m\u001b[1;33m,\u001b[0m \u001b[0mWhale\u001b[0m\u001b[1;33m(\u001b[0m\u001b[1;33m)\u001b[0m\u001b[1;33m:\u001b[0m\u001b[1;33m\u001b[0m\u001b[1;33m\u001b[0m\u001b[0m\n\u001b[1;32m---> 17\u001b[1;33m     \u001b[0manimal\u001b[0m\u001b[1;33m.\u001b[0m\u001b[0mfly\u001b[0m\u001b[1;33m(\u001b[0m\u001b[1;33m)\u001b[0m\u001b[1;33m\u001b[0m\u001b[1;33m\u001b[0m\u001b[0m\n\u001b[0m",
      "\u001b[1;31mAttributeError\u001b[0m: 'Whale' object has no attribute 'fly'"
     ]
    }
   ],
   "source": [
    "# Duck typing\n",
    "# dynamically typed\n",
    "\n",
    "class Duck:\n",
    "    def fly(self):\n",
    "        print(\"Duck flying\")\n",
    "        \n",
    "class Sparrow:\n",
    "    def fly(self):\n",
    "        print(\"Sparrow flying\")\n",
    "        \n",
    "class Whale:\n",
    "    def swim(self):\n",
    "        print(\"Whale swimming\")\n",
    "        \n",
    "for animal in Duck(), Sparrow(), Whale():\n",
    "    animal.fly()"
   ]
  },
  {
   "cell_type": "code",
   "execution_count": 20,
   "id": "972b9275",
   "metadata": {},
   "outputs": [],
   "source": [
    "def my_sum(iterable):\n",
    "    the_sum = 0 \n",
    "    for item in iterable:\n",
    "        the_sum += item\n",
    "    \n",
    "    return the_sum "
   ]
  },
  {
   "cell_type": "code",
   "execution_count": 21,
   "id": "be1261ac",
   "metadata": {},
   "outputs": [
    {
     "name": "stdout",
     "output_type": "stream",
     "text": [
      "10\n",
      "10\n",
      "10\n",
      "10\n"
     ]
    }
   ],
   "source": [
    "list = [1,2,3,4]\n",
    "print(my_sum(list))\n",
    "\n",
    "set = {1,2,3,4}\n",
    "print(my_sum(set))\n",
    "\n",
    "tuple = (1,2,3,4)\n",
    "print(my_sum(tuple))\n",
    "\n",
    "dict = {1:\"one\", 2:\"two\", 3:\"three\", 4:\"four\"}\n",
    "print(my_sum(dict))"
   ]
  },
  {
   "cell_type": "markdown",
   "id": "cb205394",
   "metadata": {},
   "source": [
    "## Encapsulation\n",
    "\n",
    "+ Used for limiting access to variables and methods\n",
    "+ It wraps data and code acting on data in single unit e.g. class\n",
    "+ Prevents accidental modification of data by restricting access to variables and methods\n",
    "\n",
    "**Access Modifiers**\n",
    "\n",
    "Public:\n",
    "\n",
    "+ The public memebers are accessible from inside or outside of class\n",
    "\n",
    "Private : \n",
    "\n",
    "+ The private members are accessible only inside the class\n",
    "+ Define variable/member by prefixing variable/member name with two underscores (__name)\n",
    "\n",
    "Protected :\n",
    "\n",
    "+ The protected members are accessible from inside the class and its sub-class\n",
    "+ Define variable/member by prefixing variable/member name with underscores (_name) "
   ]
  },
  {
   "cell_type": "code",
   "execution_count": 22,
   "id": "f700332d",
   "metadata": {},
   "outputs": [
    {
     "name": "stdout",
     "output_type": "stream",
     "text": [
      "4\n",
      "PublicVariable\n",
      "ProtectedVaraible\n"
     ]
    },
    {
     "ename": "AttributeError",
     "evalue": "'B' object has no attribute '__private'",
     "output_type": "error",
     "traceback": [
      "\u001b[1;31m---------------------------------------------------------------------------\u001b[0m",
      "\u001b[1;31mAttributeError\u001b[0m                            Traceback (most recent call last)",
      "\u001b[1;32m~\\AppData\\Local\\Temp\\3\\ipykernel_13600\\276434418.py\u001b[0m in \u001b[0;36m<module>\u001b[1;34m\u001b[0m\n\u001b[0;32m     18\u001b[0m \u001b[0mprint\u001b[0m\u001b[1;33m(\u001b[0m\u001b[0mb\u001b[0m\u001b[1;33m.\u001b[0m\u001b[0mpublic\u001b[0m\u001b[1;33m)\u001b[0m \u001b[1;31m# Accessing public variable is allowed\u001b[0m\u001b[1;33m\u001b[0m\u001b[1;33m\u001b[0m\u001b[0m\n\u001b[0;32m     19\u001b[0m \u001b[0mprint\u001b[0m\u001b[1;33m(\u001b[0m\u001b[0mb\u001b[0m\u001b[1;33m.\u001b[0m\u001b[0m_protected\u001b[0m\u001b[1;33m)\u001b[0m \u001b[1;31m# Accessing protected variable is allowed, since B is dervived class of A\u001b[0m\u001b[1;33m\u001b[0m\u001b[1;33m\u001b[0m\u001b[0m\n\u001b[1;32m---> 20\u001b[1;33m \u001b[0mprint\u001b[0m\u001b[1;33m(\u001b[0m\u001b[0mb\u001b[0m\u001b[1;33m.\u001b[0m\u001b[0m__private\u001b[0m\u001b[1;33m)\u001b[0m \u001b[1;31m# Accessing private variable is not allowed\u001b[0m\u001b[1;33m\u001b[0m\u001b[1;33m\u001b[0m\u001b[0m\n\u001b[0m",
      "\u001b[1;31mAttributeError\u001b[0m: 'B' object has no attribute '__private'"
     ]
    }
   ],
   "source": [
    "class A:\n",
    "\n",
    "    publicAbc = 4\n",
    "    def __init__(self):\n",
    "        self._protected = \"ProtectedVaraible\"\n",
    "        self.__private = \"PrivateVariable\"\n",
    "        self.public = \"PublicVariable\"\n",
    "        \n",
    "class B(A):\n",
    "    def __init__(self):\n",
    "        print(A.publicAbc)\n",
    "        super().__init__()\n",
    "\n",
    "\n",
    "        \n",
    "b = B()\n",
    "\n",
    "print(b.public) # Accessing public variable is allowed\n",
    "print(b._protected) # Accessing protected variable is allowed, since B is dervived class of A\n",
    "print(b.__private) # Accessing private variable is not allowed"
   ]
  },
  {
   "cell_type": "markdown",
   "id": "29599aea",
   "metadata": {},
   "source": [
    "**Method Overriding**\n",
    "\n",
    "+ Allows subclass to provide specific implementation of a method which is already provided by superclass"
   ]
  },
  {
   "cell_type": "code",
   "execution_count": 25,
   "id": "1afb92f1",
   "metadata": {},
   "outputs": [
    {
     "name": "stdout",
     "output_type": "stream",
     "text": [
      "In B\n",
      "Info of A\n"
     ]
    }
   ],
   "source": [
    "# method overriding\n",
    "\n",
    "class A:\n",
    "    def show(self):\n",
    "        print(\"In A\")\n",
    "        \n",
    "    def info(self):\n",
    "        print(\"Info of A\")\n",
    "\n",
    "class B(A):\n",
    "    def show(self):\n",
    "        print(\"In B\")\n",
    "        \n",
    "b = B()\n",
    "b.show() # overriding happened\n",
    "b.info() "
   ]
  },
  {
   "cell_type": "markdown",
   "id": "ce97c1ba",
   "metadata": {},
   "source": [
    "**Method Overloadding**\n",
    "\n",
    "+ Method overloadding not supported in pythond\n",
    "+ In other laguages method overloading is achived by having different parameters or type of parameters in method\n",
    "+ Since, python is dynamically typed there is no significance of type of parameters"
   ]
  },
  {
   "cell_type": "code",
   "execution_count": 26,
   "id": "69c20d92",
   "metadata": {},
   "outputs": [
    {
     "name": "stdout",
     "output_type": "stream",
     "text": [
      "2nd abc\n"
     ]
    }
   ],
   "source": [
    "# method overloadding not supported in pythond\n",
    "\n",
    "class Test():\n",
    "    \n",
    "    def abc(self):\n",
    "        print(\"1st abc\")\n",
    "        \n",
    "    def abc(self, param1):\n",
    "        print(\"2nd abc\")\n",
    "        \n",
    "test = Test()\n",
    "\n",
    "\n",
    "#test.abc() # This wont work as method overloadding is not supported\n",
    "\n",
    "test.abc(2) # This is working as python interprets code top to bottom hence 2nd abc() is latest and interpreted\n"
   ]
  },
  {
   "cell_type": "markdown",
   "id": "052608aa",
   "metadata": {},
   "source": [
    "## Abstraction\n",
    "\n",
    "+ Hide implementation or unnecessary details from user\n",
    "+ Use abstract classes"
   ]
  },
  {
   "cell_type": "markdown",
   "id": "20311ce8",
   "metadata": {},
   "source": [
    "**Abstract Class and Abstract method**\n",
    "\n",
    "+ Python by default does not support\n",
    "+ But using module ABC it is possible\n",
    "+ ABC --> Abstract Base Class\n",
    "+ Abstrace Method: The methos only having decleration is called abstract method\n",
    "+ Abstract class: The class containing abstract method\n",
    "+ We can not create object of abstract class\n",
    "+ All abstract methods must be implemeted in child class\n",
    "\n",
    "**Purpose**\n",
    "\n",
    "+ To define how other classes should look like, i.e. what methods and properties they are expected to have"
   ]
  },
  {
   "cell_type": "code",
   "execution_count": 33,
   "id": "07b64715",
   "metadata": {},
   "outputs": [
    {
     "name": "stdout",
     "output_type": "stream",
     "text": [
      "Laptop\n"
     ]
    }
   ],
   "source": [
    "from abc import ABC, abstractmethod\n",
    "\n",
    "class Computer(ABC):\n",
    "    @abstractmethod\n",
    "    def process():\n",
    "        print('In Computer')\n",
    "    \n",
    "    def info(self):\n",
    "        print(\"Computer\")\n",
    "\n",
    "class Laptop(Computer):  \n",
    "    \n",
    "    def process(self):\n",
    "        print(\"Laptop running\")\n",
    "     \n",
    "    def info(self):\n",
    "        print(\"Laptop\")  \n",
    "               \n",
    "        \n",
    "comp = Laptop()\n",
    "\n",
    "comp.info()"
   ]
  }
 ],
 "metadata": {
  "kernelspec": {
   "display_name": "Python 3 (ipykernel)",
   "language": "python",
   "name": "python3"
  },
  "language_info": {
   "codemirror_mode": {
    "name": "ipython",
    "version": 3
   },
   "file_extension": ".py",
   "mimetype": "text/x-python",
   "name": "python",
   "nbconvert_exporter": "python",
   "pygments_lexer": "ipython3",
   "version": "3.9.13"
  }
 },
 "nbformat": 4,
 "nbformat_minor": 5
}
