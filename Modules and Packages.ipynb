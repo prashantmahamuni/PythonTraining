{
 "cells": [
  {
   "cell_type": "markdown",
   "id": "8190c9ae",
   "metadata": {},
   "source": [
    "# Python Basics -  Modules and Packages\n",
    "\n",
    "**SET THE WORKING DIRECTORY SO THAT WE DO NOT HAVE TO THINK ABOUT PATH PROBLEMS**\n",
    "\n",
    "Please ensure all your folder names <font color='red'><b>do not have a space & use forward slash (/)</b></font>\n"
   ]
  },
  {
   "cell_type": "markdown",
   "id": "10f79c1e",
   "metadata": {},
   "source": [
    "Modules:\n",
    "\n",
    "    1.Any python script with .py extension\n",
    "    2.File contains collection of functions, variables, attributes, classes etc.\n",
    "    3.It serves purpose of reasusability and redyness.\n",
    "    4.Included in another python program by using `import` statement followed by module name\n",
    "    \n",
    "\n"
   ]
  },
  {
   "cell_type": "code",
   "execution_count": 1,
   "id": "8dbe4e51",
   "metadata": {},
   "outputs": [
    {
     "name": "stdout",
     "output_type": "stream",
     "text": [
      "Fri Mar  3 14:10:45 2023\n",
      "time.struct_time(tm_year=2023, tm_mon=3, tm_mday=3, tm_hour=14, tm_min=10, tm_sec=45, tm_wday=4, tm_yday=62, tm_isdst=0)\n"
     ]
    }
   ],
   "source": [
    "# importing module time and accessing it's methods\n",
    "import time\n",
    "\n",
    "print(time.asctime())\n",
    "print(time.localtime())\n"
   ]
  },
  {
   "cell_type": "markdown",
   "id": "8f4f34c6",
   "metadata": {},
   "source": [
    "If you want to import just specific method/s from module then use following syntax\n",
    "\n",
    "from [module_name] import [method_name]"
   ]
  },
  {
   "cell_type": "code",
   "execution_count": 2,
   "id": "aace3f3f",
   "metadata": {},
   "outputs": [
    {
     "name": "stdout",
     "output_type": "stream",
     "text": [
      "('India Standard Time', 'India Summer Time')\n",
      "time.struct_time(tm_year=2023, tm_mon=3, tm_mday=3, tm_hour=8, tm_min=41, tm_sec=58, tm_wday=4, tm_yday=62, tm_isdst=0)\n"
     ]
    }
   ],
   "source": [
    "# imporing specific methods from module and using them.\n",
    "from time import tzname, gmtime\n",
    "\n",
    "print(tzname)\n",
    "print(gmtime())"
   ]
  },
  {
   "cell_type": "markdown",
   "id": "c4d38d4f",
   "metadata": {},
   "source": [
    "Use dir method to list content of module"
   ]
  },
  {
   "cell_type": "code",
   "execution_count": 3,
   "id": "05c7b2b8",
   "metadata": {},
   "outputs": [
    {
     "data": {
      "text/plain": [
       "['_STRUCT_TM_ITEMS',\n",
       " '__doc__',\n",
       " '__loader__',\n",
       " '__name__',\n",
       " '__package__',\n",
       " '__spec__',\n",
       " 'altzone',\n",
       " 'asctime',\n",
       " 'ctime',\n",
       " 'daylight',\n",
       " 'get_clock_info',\n",
       " 'gmtime',\n",
       " 'localtime',\n",
       " 'mktime',\n",
       " 'monotonic',\n",
       " 'monotonic_ns',\n",
       " 'perf_counter',\n",
       " 'perf_counter_ns',\n",
       " 'process_time',\n",
       " 'process_time_ns',\n",
       " 'sleep',\n",
       " 'strftime',\n",
       " 'strptime',\n",
       " 'struct_time',\n",
       " 'thread_time',\n",
       " 'thread_time_ns',\n",
       " 'time',\n",
       " 'time_ns',\n",
       " 'timezone',\n",
       " 'tzname']"
      ]
     },
     "execution_count": 3,
     "metadata": {},
     "output_type": "execute_result"
    }
   ],
   "source": [
    "dir(time)"
   ]
  },
  {
   "cell_type": "markdown",
   "id": "fac091f4",
   "metadata": {},
   "source": [
    "Module Search Path:\n",
    "    \n",
    "    1.Python must know that from which directory or location the module needs to be imported\n",
    "    2. sys.path returns the search path for modules\n"
   ]
  },
  {
   "cell_type": "code",
   "execution_count": 4,
   "id": "33d4c4a9",
   "metadata": {
    "scrolled": true
   },
   "outputs": [
    {
     "data": {
      "text/plain": [
       "['C:\\\\Users\\\\164265\\\\Notebooks\\\\Training',\n",
       " 'C:\\\\ProgramData\\\\Anaconda3\\\\python39.zip',\n",
       " 'C:\\\\ProgramData\\\\Anaconda3\\\\DLLs',\n",
       " 'C:\\\\ProgramData\\\\Anaconda3\\\\lib',\n",
       " 'C:\\\\ProgramData\\\\Anaconda3',\n",
       " '',\n",
       " 'C:\\\\Users\\\\164265\\\\AppData\\\\Roaming\\\\Python\\\\Python39\\\\site-packages',\n",
       " 'C:\\\\ProgramData\\\\Anaconda3\\\\lib\\\\site-packages',\n",
       " 'C:\\\\ProgramData\\\\Anaconda3\\\\lib\\\\site-packages\\\\win32',\n",
       " 'C:\\\\ProgramData\\\\Anaconda3\\\\lib\\\\site-packages\\\\win32\\\\lib',\n",
       " 'C:\\\\ProgramData\\\\Anaconda3\\\\lib\\\\site-packages\\\\Pythonwin',\n",
       " 'C:\\\\ProgramData\\\\Anaconda3\\\\lib\\\\site-packages\\\\IPython\\\\extensions',\n",
       " 'C:\\\\Users\\\\164265\\\\.ipython']"
      ]
     },
     "execution_count": 4,
     "metadata": {},
     "output_type": "execute_result"
    }
   ],
   "source": [
    "import sys\n",
    "sys.path"
   ]
  },
  {
   "cell_type": "code",
   "execution_count": 2,
   "id": "07e6de1c",
   "metadata": {},
   "outputs": [
    {
     "name": "stdout",
     "output_type": "stream",
     "text": [
      "314.0\n"
     ]
    }
   ],
   "source": [
    "import myutils as mu  # myutils is module created by user and not python provided module\n",
    "\n",
    "print( mu.area_of_circle(10) )"
   ]
  },
  {
   "cell_type": "code",
   "execution_count": null,
   "id": "5cfda2ed",
   "metadata": {},
   "outputs": [],
   "source": [
    "dir(mu)"
   ]
  },
  {
   "cell_type": "markdown",
   "id": "e041467c",
   "metadata": {},
   "source": [
    "# Package "
   ]
  },
  {
   "cell_type": "markdown",
   "id": "56b1f34a",
   "metadata": {},
   "source": [
    "Package:\n",
    "\n",
    "    1.Directory containing collection of modules.\n",
    "    2.Directory must contain __init__.py file, so that interpreter treats it as package.\n",
    "    3.Used for creating large scale real-world applications"
   ]
  },
  {
   "cell_type": "markdown",
   "id": "de5fe565",
   "metadata": {},
   "source": [
    "We need to use prpoer IDE to learn more about Packages.\n",
    "Let's explore it using Spyder"
   ]
  }
 ],
 "metadata": {
  "kernelspec": {
   "display_name": "Python 3 (ipykernel)",
   "language": "python",
   "name": "python3"
  },
  "language_info": {
   "codemirror_mode": {
    "name": "ipython",
    "version": 3
   },
   "file_extension": ".py",
   "mimetype": "text/x-python",
   "name": "python",
   "nbconvert_exporter": "python",
   "pygments_lexer": "ipython3",
   "version": "3.9.13"
  }
 },
 "nbformat": 4,
 "nbformat_minor": 5
}
