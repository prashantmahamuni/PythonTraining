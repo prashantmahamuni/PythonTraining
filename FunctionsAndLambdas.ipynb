{
 "cells": [
  {
   "cell_type": "markdown",
   "id": "8190c9ae",
   "metadata": {},
   "source": [
    "# Python Basics -  Functions and Lambda\n",
    "\n",
    "**SET THE WORKING DIRECTORY SO THAT WE DO NOT HAVE TO THINK ABOUT PATH PROBLEMS**\n",
    "\n",
    "Please ensure all your folder names <font color='red'><b>do not have a space & use forward slash (/)</b></font>\n"
   ]
  },
  {
   "cell_type": "markdown",
   "id": "10f79c1e",
   "metadata": {},
   "source": [
    "**Functions**\n",
    "\n",
    "+ Functions are <b>reusable piece of software</b>.\n",
    "+ Block of statements that <b>accepts some arguments, perform some functionality, and provides the output</b>.\n",
    "+ Defined using <font color='red'><b>def</b></font> keyword\n",
    "+ A function can take arguments.\n",
    "+ Arguments are specified within parentheses in function definition separated by commas.\n",
    "+ It is also possible to assign default values to parameters in order to make the program flexible and not behave in an unexpected manner.\n",
    "+ One of the most <b>powerful feature of functions is that it allows you to pass any number of arguments (*argv) and you do not have to worry about specifying the number when writing the function</b>. This feature becomes extremely important when dealing with lists or input data where you do not know number of data observations before hand.\n",
    "+ Scope of variables defined inside a function is <b>local</b> i.e. they cannot be used outside of a function."
   ]
  },
  {
   "cell_type": "code",
   "execution_count": 1,
   "id": "b29d8e0f",
   "metadata": {},
   "outputs": [],
   "source": [
    "def sayHello():\n",
    "    print('Hello World!') # block belonging to the function\n",
    "# End of function #\n",
    "\n"
   ]
  },
  {
   "cell_type": "code",
   "execution_count": 3,
   "id": "2acde134",
   "metadata": {},
   "outputs": [
    {
     "name": "stdout",
     "output_type": "stream",
     "text": [
      "Hello World!\n"
     ]
    }
   ],
   "source": [
    "sayHello()"
   ]
  },
  {
   "cell_type": "code",
   "execution_count": 4,
   "id": "836189d5",
   "metadata": {},
   "outputs": [],
   "source": [
    "def saySomething(something): # something is Formal Argument\n",
    "    print(something) # block belonging to the function\n",
    "# End of function #\n",
    "\n"
   ]
  },
  {
   "cell_type": "code",
   "execution_count": 5,
   "id": "a0c775b6",
   "metadata": {},
   "outputs": [
    {
     "name": "stdout",
     "output_type": "stream",
     "text": [
      "Hey\n"
     ]
    }
   ],
   "source": [
    "saySomething('Hey') # Hey is actual argument"
   ]
  },
  {
   "cell_type": "code",
   "execution_count": 7,
   "id": "d2d5417f",
   "metadata": {},
   "outputs": [],
   "source": [
    "def printMax(a, b):\n",
    "   if a > b:\n",
    "       print(a, 'is maximum')\n",
    "   elif a == b:\n",
    "       print(a, 'is equal to', b)\n",
    "   else:\n",
    "       print(b, 'is maximum')\n",
    "\n"
   ]
  },
  {
   "cell_type": "code",
   "execution_count": 8,
   "id": "8841f53c",
   "metadata": {},
   "outputs": [
    {
     "name": "stdout",
     "output_type": "stream",
     "text": [
      "4 is maximum\n"
     ]
    }
   ],
   "source": [
    "printMax(3, 4) "
   ]
  },
  {
   "cell_type": "code",
   "execution_count": 10,
   "id": "b7f0e590",
   "metadata": {},
   "outputs": [],
   "source": [
    "def say(message, times = 2):\n",
    "   print(message * times)\n",
    "\n"
   ]
  },
  {
   "cell_type": "code",
   "execution_count": 11,
   "id": "9d548bac",
   "metadata": {},
   "outputs": [
    {
     "name": "stdout",
     "output_type": "stream",
     "text": [
      "WorldWorldWorldWorldWorld\n"
     ]
    }
   ],
   "source": [
    "say('World', 5)"
   ]
  },
  {
   "cell_type": "code",
   "execution_count": 13,
   "id": "ce21a739",
   "metadata": {},
   "outputs": [
    {
     "name": "stdout",
     "output_type": "stream",
     "text": [
      "WorldWorld\n"
     ]
    }
   ],
   "source": [
    "say('World')"
   ]
  },
  {
   "cell_type": "code",
   "execution_count": null,
   "id": "6a447c70",
   "metadata": {},
   "outputs": [],
   "source": []
  },
  {
   "cell_type": "code",
   "execution_count": 45,
   "id": "e631375c",
   "metadata": {},
   "outputs": [
    {
     "name": "stdout",
     "output_type": "stream",
     "text": [
      "a is 3 and b is 7 and c is 10\n",
      "a is 25 and b is 5 and c is 24\n",
      "a is 100 and b is 5 and c is 50\n"
     ]
    }
   ],
   "source": [
    "# Default arguments\n",
    "def func(a, b=5, c=10):\n",
    "   print('a is', a, 'and b is', b, 'and c is', c)\n",
    "func(3, 7)\n",
    "func(25, c=24)\n",
    "func(c=50, a=100)"
   ]
  },
  {
   "cell_type": "code",
   "execution_count": 46,
   "id": "03ab96be",
   "metadata": {},
   "outputs": [
    {
     "ename": "TypeError",
     "evalue": "func() missing 1 required positional argument: 'a'",
     "output_type": "error",
     "traceback": [
      "\u001b[1;31m---------------------------------------------------------------------------\u001b[0m",
      "\u001b[1;31mTypeError\u001b[0m                                 Traceback (most recent call last)",
      "\u001b[1;32m~\\AppData\\Local\\Temp\\5\\ipykernel_24204\\1030353135.py\u001b[0m in \u001b[0;36m<module>\u001b[1;34m\u001b[0m\n\u001b[1;32m----> 1\u001b[1;33m \u001b[0mfunc\u001b[0m\u001b[1;33m(\u001b[0m\u001b[0mc\u001b[0m\u001b[1;33m=\u001b[0m\u001b[1;36m50\u001b[0m\u001b[1;33m,\u001b[0m \u001b[0mb\u001b[0m\u001b[1;33m=\u001b[0m\u001b[1;36m100\u001b[0m\u001b[1;33m)\u001b[0m\u001b[1;33m\u001b[0m\u001b[1;33m\u001b[0m\u001b[0m\n\u001b[0m",
      "\u001b[1;31mTypeError\u001b[0m: func() missing 1 required positional argument: 'a'"
     ]
    }
   ],
   "source": [
    "func(c=50, b=100)"
   ]
  },
  {
   "cell_type": "code",
   "execution_count": 12,
   "id": "f4aa8057",
   "metadata": {},
   "outputs": [
    {
     "name": "stdout",
     "output_type": "stream",
     "text": [
      "Changed local x to 2\n",
      "x is  50\n"
     ]
    }
   ],
   "source": [
    "#Scope of variable\n",
    "x = 50\n",
    "\n",
    "def function1(y):\n",
    "   x = 2\n",
    "   print('Changed local x to', x)\n",
    "\n",
    "function1(x)\n",
    "\n",
    "print('x is ', x)"
   ]
  },
  {
   "cell_type": "code",
   "execution_count": 13,
   "id": "3426aa7b",
   "metadata": {},
   "outputs": [
    {
     "name": "stdout",
     "output_type": "stream",
     "text": [
      "2152530537040\n",
      "2152530537040\n",
      "2152530536880\n",
      "2152530537040\n"
     ]
    }
   ],
   "source": [
    "a = 10\n",
    "b = 10\n",
    "print(id(a))\n",
    "print(id(b))\n",
    "a = 5\n",
    "print(id(a))\n",
    "print(id(b))"
   ]
  },
  {
   "cell_type": "code",
   "execution_count": 14,
   "id": "cca52f10",
   "metadata": {},
   "outputs": [
    {
     "name": "stdout",
     "output_type": "stream",
     "text": [
      "10\n",
      "130\n",
      "0\n"
     ]
    }
   ],
   "source": [
    "#Variable length arguments\n",
    "\n",
    "def sum(*b):\n",
    "    result = 0\n",
    "    for i in b:\n",
    "        result = result + i\n",
    "    return result\n",
    "    \n",
    "print(sum(1,2,3,4))\n",
    "print(sum(110,20) )\n",
    "print( sum(0) )"
   ]
  },
  {
   "cell_type": "code",
   "execution_count": 19,
   "id": "8ac4b6e1",
   "metadata": {
    "scrolled": true
   },
   "outputs": [
    {
     "name": "stdout",
     "output_type": "stream",
     "text": [
      "Jon\n",
      "age 28##city Newyork##mob 1234##dept IT##"
     ]
    }
   ],
   "source": [
    "#Keyworded variable length arguments\n",
    "\n",
    "def person(name, **data):\n",
    "    print(name)\n",
    "    for k, v in data.items():\n",
    "        print(k, v, end = '##')\n",
    "        \n",
    "person('Jon', age = 28, city= 'Newyork', mob = 1234, dept=\"IT\")"
   ]
  },
  {
   "cell_type": "markdown",
   "id": "8eebb798",
   "metadata": {},
   "source": [
    "## Lambda\n",
    "+ Also called as Anonymous function. \n",
    "+ f = lambda<<arg>> : expression <<arg>> \n",
    "+ Lambda can have only one expression.  \n",
    "+ Lambda helps you use a function only once, and hence, avoids cluttering up the code with function definitions."
   ]
  },
  {
   "cell_type": "code",
   "execution_count": 20,
   "id": "1660cfbb",
   "metadata": {},
   "outputs": [
    {
     "name": "stdout",
     "output_type": "stream",
     "text": [
      "9\n"
     ]
    }
   ],
   "source": [
    "f = lambda a,b : a + b\n",
    "\n",
    "result = f(4,5)\n",
    "print(result)"
   ]
  },
  {
   "cell_type": "code",
   "execution_count": 23,
   "id": "8f6c349f",
   "metadata": {},
   "outputs": [
    {
     "name": "stdout",
     "output_type": "stream",
     "text": [
      "[2, 3, 4, 5, 6, 7, 8, 9, 10, 11, 2, 3, 4, 5, 6, 7, 8, 9, 10, 11]\n"
     ]
    }
   ],
   "source": [
    "lst1 = [2,3,4,5,6,7,8,9,10,11]\n",
    "\n",
    "sqr = lambda a : a * 2\n",
    "\n",
    "result = sqr(lst1)\n",
    "print(result)"
   ]
  },
  {
   "cell_type": "markdown",
   "id": "38e6dbf3",
   "metadata": {},
   "source": [
    "## Filter, Map & Reduce\n",
    "\n",
    "Filter:\n",
    "\n",
    "    1.The filter() function in Python takes in a function and a list as arguments. \n",
    "    2.This offers an elegant way to filter out all the elements of a sequence “sequence”, for which the function returns True.\n",
    "\n",
    "Map:\n",
    "\n",
    "    1.The map() function in Python takes in a function and a list as an argument. \n",
    "    2.The function is called with a lambda function and a list and a new list is returned which contains all the lambda modified items returned by that function for each item.\n",
    "\n",
    "Reduce:\n",
    "\n",
    "    1.The reduce() function in Python takes in a function and a list as an argument.\n",
    "    2.The function is called with a lambda function and an iterable and a new reduced result is returned. \n",
    "    3.This performs a repetitive operation over the pairs of the iterable. \n",
    "    4.The reduce() function belongs to the  functools module. "
   ]
  },
  {
   "cell_type": "code",
   "execution_count": 24,
   "id": "dd60380b",
   "metadata": {},
   "outputs": [
    {
     "name": "stdout",
     "output_type": "stream",
     "text": [
      "Initial : [1, 2, 3, 4, 5, 6, 7, 8, 9, 10]\n"
     ]
    }
   ],
   "source": [
    "nums = [1,2,3,4,5,6,7,8,9,10]\n",
    "print(\"Initial :\",nums)"
   ]
  },
  {
   "cell_type": "code",
   "execution_count": 25,
   "id": "66a432fd",
   "metadata": {},
   "outputs": [
    {
     "name": "stdout",
     "output_type": "stream",
     "text": [
      "filter: [2, 4, 6, 8, 10]\n"
     ]
    }
   ],
   "source": [
    "evens = list(filter(lambda a: a%2==0, nums)) # is even\n",
    "print(\"filter:\", evens)"
   ]
  },
  {
   "cell_type": "code",
   "execution_count": 27,
   "id": "bd85fa17",
   "metadata": {},
   "outputs": [
    {
     "name": "stdout",
     "output_type": "stream",
     "text": [
      "map: [4, 8, 12, 16, 20]\n"
     ]
    }
   ],
   "source": [
    "doubles = list(map(lambda a: a * 2, evens)) # doubles\n",
    "print(\"map:\",doubles)"
   ]
  },
  {
   "cell_type": "code",
   "execution_count": 28,
   "id": "9b4b2406",
   "metadata": {},
   "outputs": [
    {
     "name": "stdout",
     "output_type": "stream",
     "text": [
      "reduce: 60\n"
     ]
    }
   ],
   "source": [
    "from functools import reduce\n",
    "total = reduce(lambda a,b : a + b, doubles)\n",
    "print(\"reduce:\",total)"
   ]
  },
  {
   "cell_type": "markdown",
   "id": "18b2bafd",
   "metadata": {},
   "source": [
    "## global and globals()"
   ]
  },
  {
   "cell_type": "code",
   "execution_count": 32,
   "id": "686eb34a",
   "metadata": {},
   "outputs": [
    {
     "name": "stdout",
     "output_type": "stream",
     "text": [
      "10\n",
      "in func  15\n",
      "Out func  10\n"
     ]
    }
   ],
   "source": [
    "# global variable can be accessed inside fun using  keyword\n",
    "\n",
    "a = 10\n",
    "print(a)\n",
    "\n",
    "def something():\n",
    "    global a\n",
    "    a=15\n",
    "    print(\"in func \", a)\n",
    "    \n",
    "something()\n",
    "print(\"Out func \", a)"
   ]
  },
  {
   "cell_type": "code",
   "execution_count": 43,
   "id": "25b90cdb",
   "metadata": {},
   "outputs": [
    {
     "name": "stdout",
     "output_type": "stream",
     "text": [
      "Address of a is 2152530537040\n",
      "X is  10\n",
      "Adddress of X is 2152530537040\n",
      "In Func a is  9\n",
      "Outside a is  15\n"
     ]
    }
   ],
   "source": [
    "# globals() in python\n",
    "\n",
    "a = 10\n",
    "print(\"Address of a is\", id(a))\n",
    "\n",
    "b=11\n",
    "\n",
    "def dosomething():\n",
    "    a=9 #local a\n",
    "    x = globals()['a'] # x is not equal to local a\n",
    "    print(\"X is \", x) # 10\n",
    "    print(\"Adddress of X is\",id(x)) # Same as a's address\n",
    "    print(\"In Func a is \", a) # 9\n",
    "    globals()['a'] = 15\n",
    "\n",
    "    \n",
    "dosomething()\n",
    "\n",
    "print(\"Outside a is \",a) # 15\n"
   ]
  },
  {
   "cell_type": "code",
   "execution_count": 35,
   "id": "ada9a975",
   "metadata": {},
   "outputs": [
    {
     "data": {
      "text/plain": [
       "'__main__'"
      ]
     },
     "execution_count": 35,
     "metadata": {},
     "output_type": "execute_result"
    }
   ],
   "source": [
    "globals()['__name__']"
   ]
  }
 ],
 "metadata": {
  "kernelspec": {
   "display_name": "Python 3 (ipykernel)",
   "language": "python",
   "name": "python3"
  },
  "language_info": {
   "codemirror_mode": {
    "name": "ipython",
    "version": 3
   },
   "file_extension": ".py",
   "mimetype": "text/x-python",
   "name": "python",
   "nbconvert_exporter": "python",
   "pygments_lexer": "ipython3",
   "version": "3.9.13"
  }
 },
 "nbformat": 4,
 "nbformat_minor": 5
}
