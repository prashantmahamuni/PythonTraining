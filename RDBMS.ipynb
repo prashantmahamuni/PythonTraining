{
 "cells": [
  {
   "cell_type": "code",
   "execution_count": 1,
   "id": "13e859a9",
   "metadata": {},
   "outputs": [
    {
     "name": "stdout",
     "output_type": "stream",
     "text": [
      "Defaulting to user installation because normal site-packages is not writeable\n",
      "Requirement already satisfied: SQLAlchemy==1.4.29 in c:\\users\\164265\\appdata\\roaming\\python\\python39\\site-packages (1.4.29)\n",
      "Requirement already satisfied: greenlet!=0.4.17 in c:\\programdata\\anaconda3\\lib\\site-packages (from SQLAlchemy==1.4.29) (1.1.1)\n"
     ]
    }
   ],
   "source": [
    "!pip install SQLAlchemy==1.4.29\n"
   ]
  },
  {
   "cell_type": "code",
   "execution_count": 2,
   "id": "7d3c98c8",
   "metadata": {},
   "outputs": [],
   "source": [
    "import sqlalchemy as sqldb"
   ]
  },
  {
   "cell_type": "code",
   "execution_count": 3,
   "id": "e990dcfd",
   "metadata": {},
   "outputs": [],
   "source": [
    "db='mysql'\n",
    "host='localhost'\n",
    "schema='sakila'\n",
    "username='root'\n",
    "password='Password'\n",
    "port=3306\n",
    "\n",
    "connection_str = f'{db}+pymysql://{username}:{password}@{host}:{port}/{schema}?autocommit=true '\n",
    "engine = sqldb.create_engine(connection_str)\n",
    "\n",
    "connection = engine.connect()\n"
   ]
  },
  {
   "cell_type": "code",
   "execution_count": 4,
   "id": "268138f7",
   "metadata": {},
   "outputs": [
    {
     "name": "stdout",
     "output_type": "stream",
     "text": [
      "('ABW', 'Aruba', 'North America', 'Caribbean', Decimal('196.00'), None, 103000, Decimal('78.4'), Decimal('828.00'), Decimal('793.00'), 'Aruba', 'Nonmetropolitan Territory of The Netherlands', 'Beatrix', 129, 'AW')\n",
      "\n",
      "('AFG', 'Afghanistan', 'Asia', 'Southern and Central Asia', Decimal('652090.00'), 1919, 22720000, Decimal('45.9'), Decimal('5976.00'), None, 'Afganistan/Afqanestan', 'Islamic Emirate', 'Mohammad Omar', 1, 'AF')\n",
      "\n",
      "('AGO', 'Angola', 'Africa', 'Central Africa', Decimal('1246700.00'), 1975, 12878000, Decimal('38.3'), Decimal('6648.00'), Decimal('7984.00'), 'Angola', 'Republic', 'Jos', 56, 'AO')\n",
      "\n",
      "('AIA', 'Anguilla', 'North America', 'Caribbean', Decimal('96.00'), None, 8000, Decimal('76.1'), Decimal('63.20'), None, 'Anguilla', 'Dependent Territory of the UK', 'Elisabeth II', 62, 'AI')\n",
      "\n",
      "('ALB', 'Albania', 'Europe', 'Southern Europe', Decimal('28748.00'), 1912, 3401200, Decimal('71.6'), Decimal('3205.00'), Decimal('2500.00'), 'Shqip', 'Republic', 'Rexhep Mejdani', 34, 'AL')\n",
      "\n"
     ]
    }
   ],
   "source": [
    "# Execute Query\n",
    "query = \"\"\"SELECT *\n",
    "           FROM world.country\n",
    "           LIMIT 5\"\"\"\n",
    "\n",
    "\n",
    "result = connection.execute(query)\n",
    "records = result.fetchall()\n",
    "\n",
    "for record in records:\n",
    "    print(record)\n",
    "    print()\n",
    "    "
   ]
  },
  {
   "cell_type": "code",
   "execution_count": 5,
   "id": "2052770e",
   "metadata": {},
   "outputs": [
    {
     "data": {
      "text/plain": [
       "['Code',\n",
       " 'Name',\n",
       " 'Continent',\n",
       " 'Region',\n",
       " 'SurfaceArea',\n",
       " 'IndepYear',\n",
       " 'Population',\n",
       " 'LifeExpectancy',\n",
       " 'GNP',\n",
       " 'GNPOld',\n",
       " 'LocalName',\n",
       " 'GovernmentForm',\n",
       " 'HeadOfState',\n",
       " 'Capital',\n",
       " 'Code2']"
      ]
     },
     "execution_count": 5,
     "metadata": {},
     "output_type": "execute_result"
    }
   ],
   "source": [
    "# Fetch list of columns from query\n",
    "result = connection.execute(query)\n",
    "[ i[0] for i in result.cursor.description ]"
   ]
  },
  {
   "cell_type": "code",
   "execution_count": 6,
   "id": "ce7507d9",
   "metadata": {},
   "outputs": [],
   "source": [
    "# Update records using sql query\n",
    "\n",
    "update_query = \"Update world.country set surfaceArea = 196 where Name = 'Aruba'\"\n",
    "result = connection.execute(update_query)"
   ]
  },
  {
   "cell_type": "code",
   "execution_count": 7,
   "id": "3e01ba3b",
   "metadata": {},
   "outputs": [],
   "source": [
    "connection.close()"
   ]
  }
 ],
 "metadata": {
  "kernelspec": {
   "display_name": "Python 3 (ipykernel)",
   "language": "python",
   "name": "python3"
  },
  "language_info": {
   "codemirror_mode": {
    "name": "ipython",
    "version": 3
   },
   "file_extension": ".py",
   "mimetype": "text/x-python",
   "name": "python",
   "nbconvert_exporter": "python",
   "pygments_lexer": "ipython3",
   "version": "3.9.13"
  }
 },
 "nbformat": 4,
 "nbformat_minor": 5
}
