{
 "cells": [
  {
   "cell_type": "markdown",
   "id": "f5f7b1b4",
   "metadata": {},
   "source": [
    "**Inheritance**\n",
    "+ One class to derive or inherit the properties from another class. \n",
    "+ The class that derives properties is called the derived class or child class\n",
    "+ The class from which the properties are being derived is called the base class or parent class or Superclass. \n",
    "\n",
    "<b>Benefits of inheritance are:</b>\n",
    "\n",
    "+ It provides the reusability of a code. \n",
    "+ We don’t have to write the same code again and again. \n",
    "+ Also, it allows us to add more features to a class without modifying it.\n",
    "+ It is transitive in nature, which means that if class B inherits from another class A, then all the subclasses of B would automatically inherit from class A.\n",
    "\n",
    "<b>Types of Inheritance</b>\n",
    "\n",
    "+ Single Inheritance:\n",
    "Single-level inheritance enables a derived class to inherit characteristics from a single-parent class.\n",
    "\n",
    "+ Multilevel Inheritance:\n",
    "Multi-level inheritance enables a derived class to inherit properties from an immediate parent class which in turn inherits properties from his parent class.\n",
    "\n",
    "+ Multiple Inheritance:\n",
    "Multiple level inheritance enables one derived class to inherit properties from more than one base class."
   ]
  },
  {
   "cell_type": "code",
   "execution_count": 3,
   "id": "2ed41385",
   "metadata": {},
   "outputs": [
    {
     "name": "stdout",
     "output_type": "stream",
     "text": [
      "B's init\n"
     ]
    }
   ],
   "source": [
    "# Single level\n",
    "class A:\n",
    "    def __init__(self):\n",
    "        print(\"A's init\")\n",
    "        \n",
    "class B(A):\n",
    "    def __init__(self):\n",
    "        print(\"B's init\")\n",
    "        super().__init__()\n",
    "        \n",
    "b = B()"
   ]
  },
  {
   "cell_type": "code",
   "execution_count": 1,
   "id": "92944d90",
   "metadata": {},
   "outputs": [],
   "source": [
    "#Multiple\n",
    "class A:\n",
    "    def __init__(self):\n",
    "        print(\"A's init\")\n",
    "        \n",
    "class B:\n",
    "    def __init__(self):\n",
    "        print(\"B's init\")\n",
    "        \n",
    "class C(A, B):\n",
    "    def __init__(self):\n",
    "        print(\"C's init\")\n",
    "        super().__init__()\n",
    "\n",
    "#MRO - Left to Right (L ---> R)\n",
    "# How to call B's init now?\n",
    "\n",
    "c = C()"
   ]
  },
  {
   "cell_type": "code",
   "execution_count": 6,
   "id": "d8e41a86",
   "metadata": {},
   "outputs": [
    {
     "name": "stdout",
     "output_type": "stream",
     "text": [
      "C's init\n",
      "B's init\n",
      "A's init\n"
     ]
    }
   ],
   "source": [
    "# Multilevel\n",
    "class A:\n",
    "    def __init__(self):\n",
    "        print(\"A's init\")\n",
    "        \n",
    "class B(A):\n",
    "    def __init__(self):\n",
    "        print(\"B's init\")\n",
    "        super().__init__()\n",
    "        \n",
    "class C(B):\n",
    "    def __init__(self):\n",
    "        print(\"C's init\")\n",
    "        super().__init__()\n",
    "        \n",
    "c= C()"
   ]
  },
  {
   "cell_type": "markdown",
   "id": "84e1668f",
   "metadata": {},
   "source": [
    "**Polymorphism**\n",
    "\n",
    "Polymorphism simply means having many forms."
   ]
  },
  {
   "cell_type": "markdown",
   "id": "88a465e0",
   "metadata": {},
   "source": [
    "**Duck Typing**\n",
    "\n",
    "+ Determining if object can be used for particular purpose\n",
    "+ Python is dynamically typed language hence purpose of object is important than type of object\n",
    "+ e.g. If it looks like a duck and quacks like a duck, it’s a duck”"
   ]
  },
  {
   "cell_type": "code",
   "execution_count": 8,
   "id": "8f5c1e2b",
   "metadata": {},
   "outputs": [
    {
     "name": "stdout",
     "output_type": "stream",
     "text": [
      "Duck flying\n",
      "Sparrow flying\n"
     ]
    },
    {
     "ename": "AttributeError",
     "evalue": "'Whale' object has no attribute 'fly'",
     "output_type": "error",
     "traceback": [
      "\u001b[1;31m---------------------------------------------------------------------------\u001b[0m",
      "\u001b[1;31mAttributeError\u001b[0m                            Traceback (most recent call last)",
      "\u001b[1;32m<ipython-input-8-6622e2c207d0>\u001b[0m in \u001b[0;36m<module>\u001b[1;34m\u001b[0m\n\u001b[0;32m     15\u001b[0m \u001b[1;33m\u001b[0m\u001b[0m\n\u001b[0;32m     16\u001b[0m \u001b[1;32mfor\u001b[0m \u001b[0manimal\u001b[0m \u001b[1;32min\u001b[0m \u001b[0mDuck\u001b[0m\u001b[1;33m(\u001b[0m\u001b[1;33m)\u001b[0m\u001b[1;33m,\u001b[0m \u001b[0mSparrow\u001b[0m\u001b[1;33m(\u001b[0m\u001b[1;33m)\u001b[0m\u001b[1;33m,\u001b[0m \u001b[0mWhale\u001b[0m\u001b[1;33m(\u001b[0m\u001b[1;33m)\u001b[0m\u001b[1;33m:\u001b[0m\u001b[1;33m\u001b[0m\u001b[1;33m\u001b[0m\u001b[0m\n\u001b[1;32m---> 17\u001b[1;33m     \u001b[0manimal\u001b[0m\u001b[1;33m.\u001b[0m\u001b[0mfly\u001b[0m\u001b[1;33m(\u001b[0m\u001b[1;33m)\u001b[0m\u001b[1;33m\u001b[0m\u001b[1;33m\u001b[0m\u001b[0m\n\u001b[0m",
      "\u001b[1;31mAttributeError\u001b[0m: 'Whale' object has no attribute 'fly'"
     ]
    }
   ],
   "source": [
    "# Duck typing\n",
    "# dynamically typed\n",
    "\n",
    "class Duck:\n",
    "    def fly(self):\n",
    "        print(\"Duck flying\")\n",
    "        \n",
    "class Sparrow:\n",
    "    def fly(self):\n",
    "        print(\"Sparrow flying\")\n",
    "        \n",
    "class Whale:\n",
    "    def swim(self):\n",
    "        print(\"Whale swimming\")\n",
    "        \n",
    "for animal in Duck(), Sparrow(), Whale():\n",
    "    animal.fly()"
   ]
  },
  {
   "cell_type": "markdown",
   "id": "b8c9117a",
   "metadata": {},
   "source": [
    "**Operator overloading**\n",
    "\n",
    "+ Giving extended meaning beyond their predefined operational meaning.\n",
    "+ For example operator + is used to add two integers as well as join two strings and merge two lists. \n"
   ]
  },
  {
   "cell_type": "code",
   "execution_count": 15,
   "id": "2159f17c",
   "metadata": {},
   "outputs": [
    {
     "name": "stdout",
     "output_type": "stream",
     "text": [
      "9\n",
      "9\n"
     ]
    }
   ],
   "source": [
    "# Operator + in this example is used for integer addition\n",
    "# i.e. Operator + is overloaded in integer class using magic method __add__(int, int)\n",
    "# Following are some examples of magic methos\n",
    "# + --> __add__\n",
    "# - --> __sub__\n",
    "# * --> __mul__\n",
    "# / --> __div__\n",
    "\n",
    "a = 4\n",
    "b = 5\n",
    "\n",
    "print(a + b)\n",
    "\n",
    "print(int.__add__(a, b))\n",
    "\n",
    "#i.e. a + b is nothing but int.__add__(a, b)\n"
   ]
  },
  {
   "cell_type": "code",
   "execution_count": 19,
   "id": "fc9a8b1c",
   "metadata": {},
   "outputs": [
    {
     "name": "stdout",
     "output_type": "stream",
     "text": [
      "70\n",
      "140\n"
     ]
    }
   ],
   "source": [
    "# overtiding + operator for Student Class\n",
    "# + operator in this example will simly add marks of multiple students per subject\n",
    "\n",
    "class Student():\n",
    "    def __init__(self, m1, m2):\n",
    "        self.m1 = m1\n",
    "        self.m2 = m2\n",
    "        \n",
    "    def __add__(self, other):\n",
    "        m1 = self.m1 + other.m1\n",
    "        m2 = self.m2 + other.m2\n",
    "        \n",
    "        return Student(m1,m2)\n",
    "    \n",
    "s1 = Student(40, 50)\n",
    "s2 = Student(30, 20)\n",
    "\n",
    "s3 = s1 + s2\n",
    "\n",
    "s4 = s1 + s2 + s3\n",
    "\n",
    "print(s3.m1)\n",
    "print(s4.m1)"
   ]
  },
  {
   "cell_type": "code",
   "execution_count": 10,
   "id": "17b8c341",
   "metadata": {},
   "outputs": [
    {
     "name": "stdout",
     "output_type": "stream",
     "text": [
      "1234\n"
     ]
    }
   ],
   "source": [
    "# Overriding inbuilt len() \n",
    "class TheHobbit():\n",
    "    def __len__(self):\n",
    "        return 1234\n",
    "    \n",
    "hobbit = TheHobbit()\n",
    "print(len(hobbit))"
   ]
  },
  {
   "cell_type": "markdown",
   "id": "ce97c1ba",
   "metadata": {},
   "source": [
    "**Method Overloadding**\n",
    "\n",
    "+ Method overloadding not supported in pythond\n",
    "+ In other laguages method overloading is achived by having different parameters or type of parameters in method\n",
    "+ Since, python is dynamically typed there is no significance of type of parameters"
   ]
  },
  {
   "cell_type": "code",
   "execution_count": 29,
   "id": "69c20d92",
   "metadata": {},
   "outputs": [
    {
     "name": "stdout",
     "output_type": "stream",
     "text": [
      "2nd abc\n"
     ]
    }
   ],
   "source": [
    "# method overloadding not supported in pythond\n",
    "\n",
    "class Test():\n",
    "    \n",
    "    def abc(self):\n",
    "        print(\"1st abc\")\n",
    "        \n",
    "    def abc(self, param1):\n",
    "        print(\"2nd abc\")\n",
    "        \n",
    "test = Test()\n",
    "\n",
    "\n",
    "#test.abc() # This wont work as method overloadding is not supported\n",
    "\n",
    "test.abc(2) # This is working as python interprets code top to bottom hence 2nd abc() is latest and interpreted\n"
   ]
  },
  {
   "cell_type": "code",
   "execution_count": 34,
   "id": "1afb92f1",
   "metadata": {},
   "outputs": [
    {
     "name": "stdout",
     "output_type": "stream",
     "text": [
      "In B\n",
      "Info of A\n"
     ]
    }
   ],
   "source": [
    "# method overriding\n",
    "\n",
    "class A:\n",
    "    def show(self):\n",
    "        print(\"In A\")\n",
    "        \n",
    "    def info(self):\n",
    "        print(\"Info of A\")\n",
    "\n",
    "class B(A):\n",
    "    def show(self):\n",
    "        print(\"In B\")\n",
    "        \n",
    "b = B()\n",
    "b.show() # overriding happened\n",
    "b.info() "
   ]
  },
  {
   "cell_type": "markdown",
   "id": "20311ce8",
   "metadata": {},
   "source": [
    "**Abstract Class and Abstract method**\n",
    "\n",
    "+ Python by default does not support\n",
    "+ But using module ABC it is possible\n",
    "+ ABC --> Abstract Base Class\n",
    "+ Abstrace Method: The methos only having decleration is called abstract method\n",
    "+ Abstract class: The class containing abstract method\n",
    "+ We can not create object of abstract class\n",
    "+ All abstract methods must be implemeted in child class"
   ]
  },
  {
   "cell_type": "code",
   "execution_count": 43,
   "id": "07b64715",
   "metadata": {},
   "outputs": [
    {
     "name": "stdout",
     "output_type": "stream",
     "text": [
      "Laptop running\n"
     ]
    }
   ],
   "source": [
    "from abc import ABC, abstractmethod\n",
    "\n",
    "class Computer(ABC):\n",
    "    @abstractmethod\n",
    "    def process():\n",
    "        pass\n",
    "    \n",
    "    def info(self):\n",
    "        print(\"Computer\")\n",
    "\n",
    "class Laptop(Computer):  \n",
    "    \n",
    "    def process(self):\n",
    "        print(\"Laptop running\")\n",
    "     \n",
    "    def info(self):\n",
    "        print(\"Laptop\")  \n",
    "        \n",
    "comp = Laptop()\n",
    "\n",
    "comp.process()"
   ]
  }
 ],
 "metadata": {
  "kernelspec": {
   "display_name": "Python 3",
   "language": "python",
   "name": "python3"
  },
  "language_info": {
   "codemirror_mode": {
    "name": "ipython",
    "version": 3
   },
   "file_extension": ".py",
   "mimetype": "text/x-python",
   "name": "python",
   "nbconvert_exporter": "python",
   "pygments_lexer": "ipython3",
   "version": "3.8.8"
  }
 },
 "nbformat": 4,
 "nbformat_minor": 5
}
