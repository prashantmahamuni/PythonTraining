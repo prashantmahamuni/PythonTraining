{
 "cells": [
  {
   "cell_type": "markdown",
   "id": "c77aa398",
   "metadata": {},
   "source": [
    "# CLASS & OBJECTS\n",
    "\n",
    "**Class**\n",
    "\n",
    "+ Class is a blueprint of object\n",
    "+ It defines guideline and common proerties of Object\n",
    "+ Syntax to define class is <font color='red'><b>class class_name</b></font>\n",
    "\n",
    "**Object**\n",
    "\n",
    "+ An Instance of a class is called as an object\n",
    "+ Syntax to define object is <font color='red'><b>object_name = class_name()</b></font>\n"
   ]
  },
  {
   "cell_type": "code",
   "execution_count": 4,
   "id": "d05bed20",
   "metadata": {},
   "outputs": [
    {
     "name": "stdout",
     "output_type": "stream",
     "text": [
      "i5 16Gb 1TB\n",
      "i5 16Gb 1TB\n"
     ]
    }
   ],
   "source": [
    "# Class and Object\n",
    "# If we define config method without argument it will give an error as 1st argument of object/instance method must be object itself.\n",
    "# The self parameter is a reference to the current instance of the class\n",
    "# self is used to access variables that belongs to the class.\n",
    "# It does not have to be named self , you can call it whatever you like, but it has to be the first parameter\n",
    "\n",
    "class computer:\n",
    "    \n",
    "    def config(self):\n",
    "        print(\"i5\", '16Gb', \"1TB\")\n",
    "        \n",
    "\n",
    "comp1 = computer()\n",
    "\n",
    "comp1.config() #computer.config(comp1)\n",
    "\n",
    "\n",
    "comp2 = computer()\n",
    "\n",
    "comp2.config()\n"
   ]
  },
  {
   "cell_type": "markdown",
   "id": "ce2f981e",
   "metadata": {},
   "source": [
    "**Instance Variable**\n",
    "\n",
    "+ Instance variables are owned by instances/object of the class. \n",
    "+ For each object or instance of a class, the instance variables are different. \n",
    "+ Instance variables are defined within methods."
   ]
  },
  {
   "cell_type": "code",
   "execution_count": 13,
   "id": "c4541bd0",
   "metadata": {},
   "outputs": [
    {
     "name": "stdout",
     "output_type": "stream",
     "text": [
      "i7 128Gb 2TB\n",
      "i5 16Gb 1TB\n",
      "comp1.memory 128Gb\n",
      "comp1.processor_name i7\n",
      "comp2.memory 16Gb\n",
      "comp2.processor_name i5\n"
     ]
    }
   ],
   "source": [
    "# Class and Object with instance variables\n",
    "\n",
    "class computer:\n",
    "    \n",
    "    def config(self, processor, memory, data):\n",
    "        #print(\"i5\", '16Gb', \"1TB\")\n",
    "        self.processor_name = processor\n",
    "        self.memory = memory\n",
    "        self.data = data\n",
    "        \n",
    "        print(self.processor_name, self.memory, self.data)\n",
    "        \n",
    "\n",
    "comp1 = computer()\n",
    "comp2 = computer()\n",
    "\n",
    "\n",
    "comp1.config('i7', '128Gb', '2TB') #computer.config(comp1)\n",
    "comp2.config('i5', '16Gb', '1TB')\n",
    "\n",
    "print(\"comp1.memory\",comp1.memory)\n",
    "print(\"comp1.processor_name\",comp1.processor_name)\n",
    "\n",
    "print(\"comp2.memory\",comp2.memory)\n",
    "print(\"comp2.processor_name\",comp2.processor_name)\n",
    "\n",
    "\n",
    "\n"
   ]
  },
  {
   "cell_type": "markdown",
   "id": "c0cf7b1f",
   "metadata": {},
   "source": [
    "**init mrthod**\n",
    "\n",
    "+ It's like a constructor in other languages\n",
    "+ Used to initialize(assign values) to the data members of the class when an object of the class is created"
   ]
  },
  {
   "cell_type": "code",
   "execution_count": 18,
   "id": "4589b580",
   "metadata": {},
   "outputs": [
    {
     "name": "stdout",
     "output_type": "stream",
     "text": [
      "i7 128Gb 2TB\n",
      "i5 16Gb 1TB\n",
      "comp1.memory 128Gb\n",
      "comp1.processor_name i7\n",
      "comp1.os Windows\n",
      "comp1.brand Dell\n",
      "comp2.memory 16Gb\n",
      "comp2.processor_name i5\n",
      "comp2.os Linux\n",
      "comp2.brand Dell\n"
     ]
    }
   ],
   "source": [
    "# Class and Object with instance variables and __init()__\n",
    "\n",
    "class computer:\n",
    "    \n",
    "    def __init__(self, os):\n",
    "        self.os = os\n",
    "        self.brand = 'Dell'\n",
    "    \n",
    "    def config(self, processor, memory, data):\n",
    "        #print(\"i5\", '16Gb', \"1TB\")\n",
    "        self.processor_name = processor\n",
    "        self.memory = memory\n",
    "        self.data = data\n",
    "        \n",
    "        print(self.processor_name, self.memory, self.data)\n",
    "        \n",
    "\n",
    "comp1 = computer(\"Windows\")\n",
    "comp2 = computer(\"Linux\")\n",
    "\n",
    "\n",
    "comp1.config('i7', '128Gb', '2TB') #computer.config(comp1)\n",
    "comp2.config('i5', '16Gb', '1TB')\n",
    "\n",
    "print(\"comp1.memory\",comp1.memory)\n",
    "print(\"comp1.processor_name\",comp1.processor_name)\n",
    "print(\"comp1.os\",comp1.os)\n",
    "print(\"comp1.brand\",comp1.brand)\n",
    "\n",
    "print(\"comp2.memory\",comp2.memory)\n",
    "print(\"comp2.processor_name\",comp2.processor_name)\n",
    "print(\"comp2.os\",comp2.os)\n",
    "print(\"comp2.brand\",comp2.brand)\n"
   ]
  },
  {
   "cell_type": "code",
   "execution_count": 27,
   "id": "a9ee4faf",
   "metadata": {},
   "outputs": [
    {
     "name": "stdout",
     "output_type": "stream",
     "text": [
      "i7 128Gb 2TB\n"
     ]
    }
   ],
   "source": [
    "# Example code for parsing variable length argument\n",
    "\n",
    "class computer:\n",
    "    \n",
    "    def config(self, *processor):\n",
    "        #print(\"i5\", '16Gb', \"1TB\")\n",
    "        self.processor_name = processor[0]\n",
    "        self.memory = processor[1]\n",
    "        self.data = processor[2]\n",
    "        \n",
    "        print(self.processor_name, self.memory, self.data)\n",
    "        \n",
    "\n",
    "comp1 = computer()\n",
    "\n",
    "comp1.config('i7', '128Gb', '2TB') #computer.config(comp1)\n"
   ]
  },
  {
   "cell_type": "code",
   "execution_count": 28,
   "id": "62d0fb15",
   "metadata": {},
   "outputs": [
    {
     "name": "stdout",
     "output_type": "stream",
     "text": [
      "i7 128Gb 2TB\n"
     ]
    }
   ],
   "source": [
    "# Example code for parsing keyworded arguments\n",
    "\n",
    "class computer:\n",
    "    \n",
    "    def config(self, **processor):\n",
    "        #print(\"i5\", '16Gb', \"1TB\")\n",
    "        self.processor_name = processor['processor_name']\n",
    "        self.memory = processor['memory']\n",
    "        self.data = processor['data']\n",
    "        \n",
    "        print(self.processor_name, self.memory, self.data)\n",
    "        \n",
    "\n",
    "comp1 = computer()\n",
    "\n",
    "comp1.config(processor_name = 'i7', memory = '128Gb', data = '2TB') #computer.config(comp1)\n"
   ]
  },
  {
   "cell_type": "markdown",
   "id": "f861e586",
   "metadata": {},
   "source": [
    "**Type of variables in class**\n",
    "\n",
    "+ Instance variables are owned by instances/object of the class. \n",
    "+ class variables are owned by class and not tied to objects. Can be accessed using class or object.\n"
   ]
  },
  {
   "cell_type": "code",
   "execution_count": 34,
   "id": "31e86690",
   "metadata": {},
   "outputs": [
    {
     "name": "stdout",
     "output_type": "stream",
     "text": [
      "10\n",
      "BMW\n",
      "4\n",
      "4\n",
      "5\n",
      "4\n"
     ]
    }
   ],
   "source": [
    "# Type of variables in class\n",
    "\n",
    "class car:\n",
    "    wheels = 4 # Class variable\n",
    "    \n",
    "    def __init__(self):\n",
    "        self.mil = 10      # instance variables\n",
    "        self.make = 'BMW'  # instance variables\n",
    "        \n",
    "car1 = car()\n",
    "\n",
    "print(car1.mil)\n",
    "print(car1.make)\n",
    "\n",
    "print(car1.wheels)\n",
    "print(car.wheels)\n",
    "\n",
    "car1.wheels = 5\n",
    "print(car1.wheels)\n",
    "print(car.wheels)"
   ]
  },
  {
   "cell_type": "markdown",
   "id": "cd867bb2",
   "metadata": {},
   "source": [
    "**Type of methods**\n",
    "\n",
    "+ instance methods are owned by instance/object of the class.\n",
    "+ instance methods can be called or accessed by object only\n",
    "+ Class methods are owned by class. \n",
    "+ Use @classmethod decorator for classmethod definition.\n",
    "+ Class methods can be called by both class and object.\n",
    "+ A static method does not receive an implicit first argument like self/cls. \n",
    "+ A static method is also a method that is bound to the class and not the object of the class. \n",
    "+ This method can’t access or modify the class state. \n",
    "+ Use @staticmethod decorator for static method definition."
   ]
  },
  {
   "cell_type": "code",
   "execution_count": 40,
   "id": "01b919ce",
   "metadata": {},
   "outputs": [
    {
     "name": "stdout",
     "output_type": "stream",
     "text": [
      "Average 55.0\n",
      "DAV\n",
      "This is student Class. It has a method to calculate average\n",
      "This is student Class. It has a method to calculate average\n"
     ]
    }
   ],
   "source": [
    "# Type of methods\n",
    "# Instance methods\n",
    "# Class Method\n",
    "# Static Method\n",
    "\n",
    "class Student:\n",
    "    \n",
    "    SchoolName = 'DAV' # Class variable\n",
    "    \n",
    "    def __init__(self, m1, m2, m3):\n",
    "        self.m1 = m1\n",
    "        self.m2 = m2\n",
    "        self.m3 = m3\n",
    "        \n",
    "    def getAvg(self):  # Instance Method\n",
    "        \n",
    "        avg = ( (self.m1 + self.m2 + self.m3) / 3 )\n",
    "        print('Average',avg)\n",
    "        \n",
    "    @classmethod\n",
    "    def getSchoolName(cls):\n",
    "        print(cls.SchoolName)\n",
    "        \n",
    "    @staticmethod\n",
    "    def getInfo():\n",
    "        print(\"This is student Class. It has a method to calculate average\")\n",
    "\n",
    "s1 = Student(50, 55, 60)\n",
    "s1.getAvg()\n",
    "\n",
    "Student.getSchoolName()\n",
    "\n",
    "s1.getInfo()\n",
    "Student.getInfo()\n",
    "         \n",
    "            "
   ]
  },
  {
   "cell_type": "markdown",
   "id": "8bdbbe9d",
   "metadata": {},
   "source": [
    "**Inner Class**\n",
    "\n",
    "+ A class defined in another class is known as an inner class or nested class. \n",
    "+ If an object is created using inner class then the object can also be used by root class. \n",
    "+ A root class can have one or more inner classes \n",
    "+ Generally inner classes are avoided.\n"
   ]
  },
  {
   "cell_type": "code",
   "execution_count": 12,
   "id": "124cf010",
   "metadata": {},
   "outputs": [
    {
     "name": "stdout",
     "output_type": "stream",
     "text": [
      "acer\n",
      "hp\n"
     ]
    }
   ],
   "source": [
    "# Inner Class\n",
    "\n",
    "class Student:\n",
    "    \n",
    "    def __init__(self, name, rollno, brand):\n",
    "        self.name = name\n",
    "        self.rollno = rollno\n",
    "        self.lap = self.laptop(brand)\n",
    "        \n",
    "    def view(self):\n",
    "        print (self.name)\n",
    "        print (self.rollno)\n",
    "        print (self.lap.brand)\n",
    "        \n",
    "    class laptop:\n",
    "        \n",
    "        def __init__(self, brand):\n",
    "            self.brand = brand\n",
    "            self.cpu = 'i5'\n",
    "            \n",
    "prashant = Student(\"Prashant\", 101, 'acer')\n",
    "kumaran = Student(\"Kumaran\", 102, 'hp')\n",
    "\n",
    "print(prashant.lap.brand)\n",
    "print(kumaran.lap.brand)\n",
    "\n",
    "#kumaran.view()\n",
    "         \n",
    "            \n"
   ]
  }
 ],
 "metadata": {
  "kernelspec": {
   "display_name": "Python 3",
   "language": "python",
   "name": "python3"
  },
  "language_info": {
   "codemirror_mode": {
    "name": "ipython",
    "version": 3
   },
   "file_extension": ".py",
   "mimetype": "text/x-python",
   "name": "python",
   "nbconvert_exporter": "python",
   "pygments_lexer": "ipython3",
   "version": "3.8.8"
  }
 },
 "nbformat": 4,
 "nbformat_minor": 5
}
